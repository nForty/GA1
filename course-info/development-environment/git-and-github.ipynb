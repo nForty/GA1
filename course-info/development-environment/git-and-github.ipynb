{
 "cells": [
  {
   "cell_type": "markdown",
   "metadata": {},
   "source": [
    "<img src=\"http://imgur.com/1ZcRyrc.png\" style=\"float: left; margin: 20px; height: 55px\">\n",
    "\n",
    "# Introduction to Git\n",
    "\n",
    "_Author: Dave Yerrington, Sam Stack. Adapted by: Vlada Rozova_\n",
    "\n",
    "---\n",
    "\n",
    "\n",
    "## Learning Objectives\n",
    "*After this lesson, you will be able to:*\n",
    "- Use and explain common Git commands, including `init`, `add`, `commit`, `push`, `pull`, and `clone`.\n",
    "- Distinguish between local and remote repositories.\n",
    "- Create, copy, and delete repositories locally or on GitHub.\n",
    "- Clone remote repositories.\n",
    "- Establish Secure Shell connections to remote repositories.\n",
    "\n",
    "## STUDENT PRE-WORK\n",
    "*Before this lesson, you should already be able to:*\n",
    "- Show that you've completed [Code Academy: Learn Git](https://www.codecademy.com/learn/learn-git).\n",
    "- Install [Homebrew](http://brew.sh/).\n",
    "- Install Git (after installing Homebrew, type \"brew install git\").\n",
    "- Set up a GitHub account."
   ]
  },
  {
   "cell_type": "markdown",
   "metadata": {},
   "source": [
    "## Table of Contents\n",
    "\n",
    "---\n",
    "- [Introduction](#introduction)  \n",
    "- [Git Basics](#git_basics) \n",
    "- [GitHub & GitHub Enterprise Accounts](#gh_ghe_accounts)\n",
    "- [Creating and Cloning Repos](#making_cloning) \n",
    "- [Pulling](#pulling)  \n",
    "- [Secure Shell(SSH)](#ssh) \n",
    "- [Independent Practice](#independent_practice)  \n",
    "- [Conclusion](#conclusion)"
   ]
  },
  {
   "cell_type": "markdown",
   "metadata": {},
   "source": [
    "### First thing first\n",
    "\n",
    "There are a variety of commands you can use in Git. You can take a look at a list of the available commands by running:\n",
    "\n",
    "```bash\n",
    "$ git help -a\n",
    "```\n",
    "\n",
    "Even though there are lots of commands, in the course, we will really only need about 10.\n",
    "\n",
    "---\n",
    "\n"
   ]
  },
  {
   "cell_type": "markdown",
   "metadata": {},
   "source": [
    "<a id=\"git_basics\"></a>\n",
    "## Let's Git into it!: Code-Along (15 min)\n",
    "___\n",
    "\n",
    "First, create a directory on your Desktop.\n",
    "\n",
    "```bash\n",
    "$ cd ~/Desktop\n",
    "$ mkdir hello-world\n",
    "```\n",
    "\n",
    "You can place this directory under Git revision control using the following command:\n",
    "\n",
    "```bash\n",
    "$ cd hello-world # dont forget to CD into the folder.\n",
    "$ git init\n",
    "```\n",
    "\n",
    "Git will reply:\n",
    "\n",
    "```bash\n",
    "Initialized empty Git repository in <location>\n",
    "```\n",
    "\n",
    "You've now initialized the working directory."
   ]
  },
  {
   "cell_type": "markdown",
   "metadata": {},
   "source": [
    "### The .git folder\n",
    "\n",
    "We can look at the contents of this empty folder using this command:\n",
    "\n",
    "```bash\n",
    "ls -A\n",
    "```\n",
    "\n",
    "We should see that there is now a hidden folder called `.git`. This is where all of the information about your repository is stored. There is no need for you to make any changes to this folder. You can control all of the Git flow using `git` commands."
   ]
  },
  {
   "cell_type": "markdown",
   "metadata": {},
   "source": [
    "### Add a file\n",
    "\n",
    "Let's create a new file.\n",
    "\n",
    "```bash\n",
    "$ touch a.txt\n",
    "```\n",
    "\n",
    "If we run `git status`, we should get:\n",
    "\n",
    "```bash\n",
    "On branch master\n",
    "\n",
    "Initial commit\n",
    "\n",
    "Untracked files:\n",
    "  (use \"git add <file>...\" to include in what will be committed)\n",
    "\n",
    "\ta.txt\n",
    "\n",
    "nothing added to commit but untracked files present (use \"git add\" to track)\n",
    "```\n",
    "\n",
    "This means that there is a new, **untracked** file. Next, tell Git to take a snapshot of the contents of all files under the current directory. (Note the `.`).\n",
    "\n",
    "```bash\n",
    "$ git add .\n",
    "```\n",
    "\n",
    "This snapshot is now stored in a temporary staging area, which Git calls the \"index.\""
   ]
  },
  {
   "cell_type": "markdown",
   "metadata": {},
   "source": [
    "### Commit\n",
    "\n",
    "To permanently store the contents of the index in the repository, (i.e., commit these changes to the \"HEAD\"), you need to run the following command:\n",
    "\n",
    "```bash\n",
    "$ git commit -m \"Please remember this file at this time\"\n",
    "```\n",
    "\n",
    "You should now get:\n",
    "\n",
    "```bash\n",
    "[master (root-commit) 83c5c13] Please remember this file at this time\n",
    " 1 file changed, 0 insertions(+), 0 deletions(-)\n",
    " create mode 100644 a.txt\n",
    "```"
   ]
  },
  {
   "cell_type": "markdown",
   "metadata": {},
   "source": [
    "### Checking the log\n",
    "\n",
    "If we want to view the commit history, we can run:\n",
    "\n",
    "```bash\n",
    "git log\n",
    "```\n",
    "\n",
    "As a result, you should see:\n",
    "\n",
    "```bash\n",
    "commit 83c5c13346e25fe14aa62b7b86b42d1dbd4972fe\n",
    "Author: [YOUR_USERNAME]\n",
    "Date:   [TIME_OF_COMMIT]\n",
    "\n",
    "    Please remember this file at this time\n",
    "```"
   ]
  },
  {
   "cell_type": "markdown",
   "metadata": {},
   "source": [
    "<a id=\"gh_ghe_accounts\"></a>\n",
    "## 'Git' on GitHub and GitHub Enterprise:\n",
    "___\n",
    "\n",
    "For those of you that have not already set up your GitHub and GitHub Enterprise accounts, lets take a minute to do that now.\n",
    "\n",
    "Account creation for both is simple.  Create a _Username_, and provide an _email_ & _password_.\n",
    "\n",
    "_Keep in mind while you **can** use the same email, username and password for both accounts, they are **wholly separate**._\n",
    "\n",
    "**[GitHub](https://github.com/)**\n",
    " _This is yours_\n",
    " \n",
    "**[GitHub Enterprise for General Assembly](https://git.generalassemb.ly/join?source=header)**\n",
    "_This is ours_\n",
    "\n",
    "You can use a GitHub account to create a GitHub Enterprise account, but that will be **your** enterprise; in that, you will not be able to use it to access the General Assembly Enterprise GitHub.\n",
    "\n",
    "If in the future you join another GitHub Enterprise you will also need to create another account for said enterprise.  "
   ]
  },
  {
   "cell_type": "markdown",
   "metadata": {},
   "source": [
    "### Local and remote repositories\n",
    "\n",
    "When using Git, GitHub and GHE it is common to have your repositories in several locations.  Typically when we use GitHub and GHE we will have two repository locations, **Remote** and **Local**.\n",
    "- **Remote:** - Repositories that are not stored in our current location/machine. Usually where we store the repo.\n",
    "- **Local:** - Repositories that are stored on our current machine. Usually where we work on the repo.\n",
    "\n"
   ]
  },
  {
   "cell_type": "markdown",
   "metadata": {},
   "source": [
    "To check if your local repo is connected to a remote repo, type:\n",
    "\n",
    "```bash\n",
    "git remote -v\n",
    "```\n",
    "\n",
    "Because we have not yet connected a remote repository on GitHub to our local repository `hello-world`, this command should output nothing."
   ]
  },
  {
   "cell_type": "markdown",
   "metadata": {},
   "source": [
    "<a id=\"making_cloning\"></a>\n",
    "## Making and Cloning Repositories: Code-Along (15 min)\n",
    "___\n",
    "\n",
    "> To make things easier, it is better to start with creating a **remote** repository and then creating a **local** repository by cloning it and downloading the contents on your computer.\n",
    "\n",
    "### Creating a new remote repository\n",
    "1. Go to your GitHub account.\n",
    "2. On the right-hand side, hit the **\"+\"** button for New repository.\n",
    "3. Give your repository a name, decide who can see its contents and tick \"Initialize this repository with a README\".\n",
    "4. `.gitignore` is a hidden folder telling Git which files to automatically ignore. This makes things a lot easier and if you are going to use Python it is recommended you choose it from the list.\n",
    "5. Click the big, green **\"Create Repository\"** button."
   ]
  },
  {
   "cell_type": "markdown",
   "metadata": {},
   "source": [
    "### Cloning your remote repository\n",
    "If you want to have a copy of your new remote repository (or any other repository you forked) on your computer, you need to clone it.\n",
    "1. Go to your GitHub repository.\n",
    "2. On the right-hand side of your GitHub project repository, there should be a green **\"Clone or download\"** button. This button should reveal a tiny window with a URL. Copy the provided URL, which is the path to this remote repo.\n",
    "3. In your command line, go to the directory where you want to store your local project repository. **_Make sure this is not an existing git repository (use `git status` to check)._**\n",
    "4. To retrieve the contents of the repo, all you need to do is:\n",
    "\n",
    "```bash\n",
    "git clone https://github.com/YOUR-USERNAME/YOUR-REPOSITORY\n",
    "```\n",
    "Git should reply:\n",
    "\n",
    "```bash\n",
    "Cloning into 'hello-github'...\n",
    "remote: Counting objects: 3, done.\n",
    "remote: Total 3 (delta 0), reused 3 (delta 0), pack-reused 0\n",
    "Receiving objects: 100% (3/3), done.\n",
    "Checking connectivity... done.\n",
    "```\n",
    "\n",
    "Cloning is most useful when there is a repo that exists remotely that we want on our local machines. "
   ]
  },
  {
   "cell_type": "markdown",
   "metadata": {},
   "source": [
    "### Changing files and syncing repositories\n",
    "\n",
    "##### Making changes on GitHub\n",
    "1. Open a file on GitHub, create or edit a file and commit changes.\n",
    ">Any file ending with `.md` is a Markdown file -- a text file with optional [Markdown formatting](https://daringfireball.net/projects/markdown/syntax). On GitHub, the contents of the displayed directory's `README.md` is automatically displayed.\n",
    "2. **Now your remote repository is one step ahead of the local one.** To sync them pull the contents from the remote repository. In your command line navigate to your local repo and type:\n",
    "```bash\n",
    "git pull\n",
    "```\n",
    "\n",
    "##### Making changes localy\n",
    "1. Create a text file and and type something about yourself you'd like to share with the class.\n",
    "2. Stage files/the whole repository to track changes:\n",
    "\n",
    "```bash\n",
    "git add file_name\n",
    "```\n",
    "or\n",
    "```bash\n",
    "git add .\n",
    "```\n",
    "\n",
    "3. Commit changes to Git:\n",
    "```bash\n",
    "git commit -m ”Your message”\n",
    "```\n",
    "4. **Now your local repository is one step ahead of the remote one.** To sync them push the contents of the local repository into the main branch (=master) of the remote repository (=origin), type:\n",
    "\n",
    "```bash\n",
    "git push origin master\n",
    "```\n",
    "or simply \n",
    "```bash\n",
    "git push\n",
    "```\n",
    "\n",
    "Refresh your GitHub web page, and the new file should appear. Take a look underneath the directory tree, and its contents will be automatically displayed.\n",
    "> If the remote repository contains work that you do not have locally, you will first need to `git pull`."
   ]
  },
  {
   "cell_type": "markdown",
   "metadata": {},
   "source": [
    "### Solving conflicts\n",
    "This is especially relevant to our main **\"course-info\"** repository. As a student, you do not have permission to push to the repository. Once you have cloned it to have on your computers and made changes (ran jupyter notebooks, made notes for the slides, etc.), you might have trouble using `git pull` because Git will raise a conflict. There are several options on how to go about it.\n",
    "\n",
    "There are several ways to resolve this issue, if that happens, check out our Wiki page."
   ]
  },
  {
   "cell_type": "markdown",
   "metadata": {},
   "source": [
    "### Forking repositories \n",
    "\n",
    "Sometimes we want to access someone else's code to modify it or just to have our own copy on GitHub. We can do that by `forking` a repository.\n",
    "Now that everyone has a repository on GitHub, ask the person sitting next to you for their GitHub username and go to their account on GitHub.\n",
    "\n",
    "```\n",
    "https://www.github.com/<github-username>/hello-github\n",
    "```\n",
    "\n",
    "On the right-hand side, you will see the grey button 'Fork'. You might be asked where exactly do you want to fork the repository, in this case, choose your personal account.\n",
    "\n",
    "You've now forked your partner's repository. Check out what they wrote about themselves!"
   ]
  },
  {
   "cell_type": "markdown",
   "metadata": {},
   "source": [
    "### Independent Practice (10 min)\n",
    "* Go to our [DAT16SYD](https://git.generalassemb.ly/DAT16SYD) account on GitHub.\n",
    "* Go to `course-info` repo and clone it on your computer. \n",
    "> You wil now have a local copy of the materials for the first two classes. Before each class, you will need to open your command line, go to `course-info` directory and download the newly added materials using `git pull`.\n",
    "* On GitHub go to `projects` repo and `fork` it.\n",
    "> You will now have your own remote repo containing tasks and requirements and because it's your own repo you can upload any files you want. When it's time to submit the first project you will simply need to share the link with me. "
   ]
  },
  {
   "cell_type": "markdown",
   "metadata": {},
   "source": [
    "<a name=\"pulling\"></a>\n",
    "## Collaborating on GitHub\n",
    "___\n",
    "\n",
    "### Branches\n",
    "Often times when we are working on a project with other collaborators we all can't work on the same repo at the same time so we have these things called `branches`.  With branches we can create a branch off of the main repo or **master** branch, perform our work whether that be additions or alterations and then merge the changes we made on **our** branch back into the master.    \n",
    "\n",
    "![](assets/branching.jpeg)"
   ]
  },
  {
   "cell_type": "markdown",
   "metadata": {},
   "source": [
    "### Pull requests\n",
    "You can probably think of a few ways that multiple people trying to merge their work can get messy.  Fortunately, we have Pull Requests as means of queing and validating merges.  Rather than having your branch merge automatically, your request will go through an administrator who can review your changes and additions and approve or deny your request.\n",
    "\n",
    "![](assets/pull-request.jpeg)\n",
    "_Even though we are trying to **push** our information into the master, it is called a pull request because we are making a request to the administrator to **pull** our branch into the master._"
   ]
  },
  {
   "cell_type": "markdown",
   "metadata": {},
   "source": [
    "## Creating a Pull Request\n",
    "___\n",
    "Before you can open a pull request, you must create a branch in your local repository, commit to it, and push that branch to a repository or fork on GitHub.\n",
    "\n",
    "1. Visit the repository you've pushed to.\n",
    "2. Click \"Branch:master\" on the left-hand side and create a branch called 'branch-edits' by typing in the box and hitting enter.  This should put you on your new branches page.\n",
    "3. Make sure you're on your new branch and in GitHub create a new '.md' or '.txt' file using the 'Create new file' button. Call it what you like and place some text in it.\n",
    "4. Click the \"Compare & pull request\" button in the repository ![pr](https://cloud.githubusercontent.com/assets/40461/8229344/d344aa8e-15ad-11e5-8578-08893bcee335.jpg).\n",
    "5. You'll land right onto the compare page. Next, you can click \"Edit\" at the top to pick a new branch to merge to using the \"Head Branch\" dropdown menu.\n",
    "4. Select the target branch that your branch should be merged to using the \"Base Branch\" dropdown menu.\n",
    "5. Review your proposed change.\n",
    "6. Hit \"Click to create a pull request\" for this comparison.\n",
    "7. Enter a title and description for your pull request.\n",
    "8. Click \"Send pull request.\"\n",
    "\n",
    "As you are working on your own repo in your own GitHub you will be able to merge the branch at your leisure."
   ]
  },
  {
   "cell_type": "markdown",
   "metadata": {},
   "source": [
    "### GitHub Example Project\n",
    "\n",
    "A company is building onto their website and adding a few new features.  They are assigning a team of engineers to complete the task.  \n",
    "\n",
    "* Engineer 1 is responsible for redoing the home page.\n",
    "* Engineer 2 is responsible for reworking content pages 1 & 2.\n",
    "* Engineer 3 is responsible for reworking content pages 3 & 4.\n",
    "\n",
    "In this situation the master branch would probably be a copy of the files and scripts for the original website.  As this is the master copy it is best not to make any edits to it until those changes have been vetted.\n",
    "\n",
    "The engineer team starts by making branch off of the master called '`project_1`'.\n",
    "\n",
    "From '`project_1`' the team of engineers would probably create their own branches to perform their tasks in.\n",
    "\n",
    "- Engineer 1 : '`preoject_1_homepage`'\n",
    "- Engineer 2 : '`preoject_1_content1_2`'\n",
    "- Engineer 3 : '`preoject_1_content3_4`'\n",
    "\n",
    "\n",
    "Once each engineer completed their task they would merge the changes from their branch into '`project_1`'.  \n",
    "\n",
    "Now that all of the individual work has been compiled they can test the website and make sure that there are no bugs or issues then merge '`project_1`' back into the master copy."
   ]
  },
  {
   "cell_type": "markdown",
   "metadata": {},
   "source": [
    "## Avoiding entering password every time\n",
    "___\n",
    "\n",
    "If by now you have noticed that you are being prompted quite a bit for your password when interacting with GitHub or GitHub Enterprise via Git, there are two ways to work around this:\n",
    "\n",
    "**[Caching your password in Git](https://help.github.com/articles/caching-your-github-password-in-git/)**\n",
    "\n",
    "or\n",
    "\n",
    "**[Connecting to GitHub with SSH](https://help.github.com/articles/connecting-to-github-with-ssh/)** (_recommended_)"
   ]
  },
  {
   "cell_type": "markdown",
   "metadata": {},
   "source": [
    "<a id=\"ssh\"></a>\n",
    "\n",
    "### Secure Shell (SSH)\n",
    "\n",
    "SSH, or Secure Shell, is a common means of adding an additional layer of security.  Simply put, the SSH key is used to establish authenticity between a client and a server so that a secure connection or \"tunnel\" can be formed.  This can be useful for secure file sharing or remote application access.  \n",
    "\n",
    "### How SSH works\n",
    "\n",
    "The SSH process at a high level is relatively simple.  \n",
    "1. Client makes a request to the server.\n",
    "2. Server responds asking for authentication.\n",
    "3. Client provides authentication.\n",
    "4. If authentication is correct, a connection is established.  \n",
    "\n",
    "**Note**: You will need to complete whichever process you choose twice. Once for your GitHub account and once for your GitHub Enterprise account.\n",
    "\n",
    "**Note:** Setting up the SSH Agent is critical if you don't want to be prompted for a password everytime you push or pull via SSH."
   ]
  },
  {
   "cell_type": "markdown",
   "metadata": {},
   "source": [
    "### Additional SSH Troubleshooting:\n",
    "\n",
    "**Access Denied**  \n",
    "If you receive a message about \"access denied,\" please notify an instructor or you can read [these instructions for diagnosing the issue.](https://help.github.com/articles/error-permission-denied-publickey/)\n",
    "\n",
    "**HTTPS to SSH switch**  \n",
    "If you're switching from HTTPS to SSH, you'll now need to update your remote repository URLs. For more information, see [Changing a remote's URL.](https://help.github.com/articles/changing-a-remote-s-url/)"
   ]
  },
  {
   "cell_type": "markdown",
   "metadata": {},
   "source": [
    "<a id=\"conclusion\"></a>\n",
    "## Conclusion\n",
    "Feel comfortable with Git, GitHub and GitHub Enterprise? As we'll be using them a lot in our coursework, let's make sure you are! \n"
   ]
  }
 ],
 "metadata": {
  "kernelspec": {
   "display_name": "Python 3",
   "language": "python",
   "name": "python3"
  },
  "language_info": {
   "codemirror_mode": {
    "name": "ipython",
    "version": 3
   },
   "file_extension": ".py",
   "mimetype": "text/x-python",
   "name": "python",
   "nbconvert_exporter": "python",
   "pygments_lexer": "ipython3",
   "version": "3.6.8"
  },
  "toc": {
   "base_numbering": 1,
   "nav_menu": {},
   "number_sections": true,
   "sideBar": true,
   "skip_h1_title": false,
   "title_cell": "Table of Contents",
   "title_sidebar": "Contents",
   "toc_cell": false,
   "toc_position": {},
   "toc_section_display": true,
   "toc_window_display": false
  }
 },
 "nbformat": 4,
 "nbformat_minor": 2
}
