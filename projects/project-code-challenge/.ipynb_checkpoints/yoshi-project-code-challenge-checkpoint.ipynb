{
 "cells": [
  {
   "cell_type": "markdown",
   "metadata": {},
   "source": [
    "### Challenge 1: Largest Palindrome\n",
    "A palindromic number reads the same both ways. For example, 1234321 is a palindrome. The largest palindrome made from the product of two two-digit numbers is 9009 = 91 × 99. Find the largest palindrome made from the product of two three-digit numbers. Afterward, write a brief explanation walking through your code's logic in markdown."
   ]
  },
  {
   "cell_type": "code",
   "execution_count": 2,
   "metadata": {},
   "outputs": [
    {
     "name": "stdout",
     "output_type": "stream",
     "text": [
      "0 993 913\n",
      "580085 995 583\n",
      "the latgest palindromic that can be made from the product of two three-digit numbers is 906609 = 993 X 913\n"
     ]
    }
   ],
   "source": [
    "#Largest Palindrome\n",
    "\n",
    "#setup the counter and the while loop, the while loop starts from the highest number\n",
    "largest_palindromic = 0\n",
    "counter1 = 999\n",
    "while counter1 > 99:\n",
    "    \n",
    "    #setup the second while loop and the counter\n",
    "    counter2 = 999\n",
    "    while counter2 > 99:\n",
    "        \n",
    "        #calculate the product then convert to string\n",
    "        product = counter1 * counter2\n",
    "        product_as_string = str(product)\n",
    "        \n",
    "        #reverse the string\n",
    "        reversed_string = product_as_string[::-1]   \n",
    "        \n",
    "        #this if statement will retun true if the revesed string and the product string are equal ie. palindromic\n",
    "        if product_as_string == reversed_string:\n",
    "            \n",
    "            #this if statement will only occur if the newely found palindromic is larger than the previously found one\n",
    "            if product > largest_palindromic:\n",
    "                \n",
    "                #codes to store the info of the largest palindromic\n",
    "                print(largest_palindromic , number1, number2)\n",
    "                largest_palindromic = product \n",
    "                number1 = counter1\n",
    "                number2 = counter2\n",
    "        \n",
    "        #decrementation of the counter        \n",
    "        counter2 = counter2 - 1  \n",
    "    \n",
    "    #decrementation of the counter\n",
    "    counter1 = counter1 - 1\n",
    "    \n",
    "#print the result\n",
    "print('the latgest palindromic that can be made from the product of two three-digit numbers is', largest_palindromic, '=' , number1 , 'X',number2)"
   ]
  },
  {
   "cell_type": "markdown",
   "metadata": {},
   "source": [
    "### Challenge 2: Summation of Primes\n",
    "The sum of the primes below 10 is 2 + 3 + 5 + 7 = 17. Find the sum of all the primes below 2,000. Afterward, write a brief explanation walking through your code's logic in markdown."
   ]
  },
  {
   "cell_type": "code",
   "execution_count": 12,
   "metadata": {},
   "outputs": [
    {
     "name": "stdout",
     "output_type": "stream",
     "text": [
      "The sum of all the primes below 2,000 is 277050\n"
     ]
    }
   ],
   "source": [
    "#Summation of Primes\n",
    "\n",
    "#\n",
    "def sum_prime(check_up_to): \n",
    "    \n",
    "    #start the total at zero\n",
    "    total_sum_of_primes = 0\n",
    "    \n",
    "    #for loop that iterates through \n",
    "    for number_checking in range(2,check_up_to):\n",
    "        is_prime = True\n",
    "        \n",
    "        #for loop is set up to check if number_checking is a prime number or not, x is just a counter from 2 to the actual number\n",
    "        for x in range(2,number_checking):\n",
    "            \n",
    "            #if statement checks if number_checking is divisible by another number x\n",
    "            if number_checking % x == 0:\n",
    "                \n",
    "                #if the remaider is zero, then the number is not a prime\n",
    "                is_prime = False\n",
    "                \n",
    "                #break the for loop to go to the next number to check\n",
    "                break\n",
    "        \n",
    "        #if after the loop no factors where found then the number is prime and the value of is_prime stays True\n",
    "        if is_prime:\n",
    "            \n",
    "            #add the prime number to the total\n",
    "            total_sum_of_primes = total_sum_of_primes + number_checking\n",
    "    \n",
    "    #return the sum of all primes after the 1st for loop is completed\n",
    "    return total_sum_of_primes\n",
    "\n",
    "print('The sum of all the primes below 2,000 is' , sum_prime(2000)) #call the function to sum all the primes to 2000"
   ]
  },
  {
   "cell_type": "markdown",
   "metadata": {},
   "source": [
    "### Challenge 3: Multiples of 3 and 5\n",
    "If we list all of the natural numbers below 10 that are multiples of 3 or 5, we get 3, 5, 6, and 9. The sum of these multiples is 23. Find the sum of all the multiples of 3 and 5 below 1,000. Afterward, write a brief explanation walking through your code's logic in markdown."
   ]
  },
  {
   "cell_type": "code",
   "execution_count": 24,
   "metadata": {},
   "outputs": [
    {
     "name": "stdout",
     "output_type": "stream",
     "text": [
      "The sum of all the multiples of 3 and 5 below 1000 is 233168\n"
     ]
    }
   ],
   "source": [
    "#Multiples of 3 and 5\n",
    "\n",
    "#start the total_sum counter at zero\n",
    "total_sum = 0\n",
    "up_to = 1000\n",
    "\n",
    "#for loop to interate through numbers below \"up_to\"\n",
    "for number_checking in range(1,up_to):\n",
    "    \n",
    "    #if and else if statement to find the multiple of 3 and 5 and add them onto the total_sum counter\n",
    "    if number_checking % 3 == 0:\n",
    "        total_sum = total_sum + number_checking      \n",
    "    elif number_checking % 5 == 0:\n",
    "        total_sum = total_sum + number_checking\n",
    "        \n",
    "#print the total after the for loop ends   \n",
    "print('The sum of all the multiples of 3 and 5 below' , up_to ,'is' , total_sum)"
   ]
  },
  {
   "cell_type": "markdown",
   "metadata": {},
   "source": [
    "### Challenge 4: String Compressor\n",
    "Implement a method to perform basic string compression using the counts of repeated characters. (This is called run-length encoding.) For example, the string \"aabcccccaaa\" would become a2b1c5a3. If the “compressed” string would not become smaller than the original string, your method should return the original string. You can assume the string has only uppercase and lowercase letters (a–z). Specify whether your solution is case sensitive or case insensitive and what you would need to change to make it the other. Afterward, write a brief explanation walking through your code's logic in markdown."
   ]
  },
  {
   "cell_type": "code",
   "execution_count": 26,
   "metadata": {},
   "outputs": [
    {
     "name": "stdout",
     "output_type": "stream",
     "text": [
      "a2b1c5a3\n",
      "a5b1c5a2A1\n",
      "abCdefg\n"
     ]
    }
   ],
   "source": [
    "#String Compressor\n",
    "\n",
    "#this function assumes the input is a string\n",
    "def string_compressor(an_input_string):\n",
    "    #un-comment the below code to change from case-sensitive to case insensitive\n",
    "    #an_input_string = an_input_string.lower()\n",
    "    \n",
    "    #initalise the compressed string as empty string\n",
    "    compressed_string = ''\n",
    "    \n",
    "    #initalise the counter at 0\n",
    "    i = 0\n",
    "    \n",
    "    #while loops set up to iterate through the input string\n",
    "    while i < len(an_input_string):\n",
    "        #store the character indexed at i\n",
    "        char = an_input_string[i]\n",
    "        \n",
    "        #initialise the counter at 1\n",
    "        counter = 1  \n",
    "        \n",
    "        #this for loops counts how many occurances of char there is in a row\n",
    "        for x in range(1,len(an_input_string) - i):\n",
    "            \n",
    "            #increases the couter only if it is the same as char \n",
    "            if char == an_input_string[i + x]:\n",
    "                counter = counter + 1\n",
    "            \n",
    "            #when a different character is found the for loop ends\n",
    "            else:\n",
    "                break\n",
    "\n",
    "        #increment i to move to the next letter, here i = i + 1 will be wrong \n",
    "        i = i + counter\n",
    "        \n",
    "        #this code adds/appends the character and the counter to the \"compressed string\"        \n",
    "        compressed_string = compressed_string + char + str(counter)\n",
    "\n",
    "    #checks if the original string is shorter than the \"comrpessed string\"\n",
    "    if len(an_input_string) < len(compressed_string):\n",
    "        return an_input_string\n",
    "    else:  \n",
    "        return compressed_string\n",
    "\n",
    "#check to see if aabcccccaaa returns a2b1c5a3\n",
    "print(string_compressor('aabcccccaaa'))\n",
    "\n",
    "#check to see if aaaaabcccccaaA returns a5b1c5a2A1\n",
    "print(string_compressor('aaaaabcccccaaA'))\n",
    "\n",
    "#check to see if abCdefg returns abCdefg\n",
    "print(string_compressor('abCdefg'))"
   ]
  },
  {
   "cell_type": "markdown",
   "metadata": {},
   "source": [
    "### *BONUS* Challenge: FizzBuzz\n",
    "Write a program that prints all of the numbers from 1 to 100. For multiples of 3, instead of the number, print \"Fizz;\" for multiples of 5, print \"Buzz.\" For numbers that are multiples of both 3 and 5, print \"FizzBuzz.\" Afterward, write a brief explanation walking through your code's logic in markdown."
   ]
  },
  {
   "cell_type": "code",
   "execution_count": 5,
   "metadata": {},
   "outputs": [
    {
     "name": "stdout",
     "output_type": "stream",
     "text": [
      "1\n",
      "2\n",
      "Fizz\n",
      "4\n",
      "buzz\n",
      "Fizz\n",
      "7\n",
      "8\n",
      "Fizz\n",
      "buzz\n",
      "11\n",
      "Fizz\n",
      "13\n",
      "14\n",
      "FizzBuzz\n",
      "16\n",
      "17\n",
      "Fizz\n",
      "19\n",
      "buzz\n",
      "Fizz\n",
      "22\n",
      "23\n",
      "Fizz\n",
      "buzz\n",
      "26\n",
      "Fizz\n",
      "28\n",
      "29\n",
      "FizzBuzz\n",
      "31\n",
      "32\n",
      "Fizz\n",
      "34\n",
      "buzz\n",
      "Fizz\n",
      "37\n",
      "38\n",
      "Fizz\n",
      "buzz\n",
      "41\n",
      "Fizz\n",
      "43\n",
      "44\n",
      "FizzBuzz\n",
      "46\n",
      "47\n",
      "Fizz\n",
      "49\n",
      "buzz\n",
      "Fizz\n",
      "52\n",
      "53\n",
      "Fizz\n",
      "buzz\n",
      "56\n",
      "Fizz\n",
      "58\n",
      "59\n",
      "FizzBuzz\n",
      "61\n",
      "62\n",
      "Fizz\n",
      "64\n",
      "buzz\n",
      "Fizz\n",
      "67\n",
      "68\n",
      "Fizz\n",
      "buzz\n",
      "71\n",
      "Fizz\n",
      "73\n",
      "74\n",
      "FizzBuzz\n",
      "76\n",
      "77\n",
      "Fizz\n",
      "79\n",
      "buzz\n",
      "Fizz\n",
      "82\n",
      "83\n",
      "Fizz\n",
      "buzz\n",
      "86\n",
      "Fizz\n",
      "88\n",
      "89\n",
      "FizzBuzz\n",
      "91\n",
      "92\n",
      "Fizz\n",
      "94\n",
      "buzz\n",
      "Fizz\n",
      "97\n",
      "98\n",
      "Fizz\n",
      "buzz\n"
     ]
    }
   ],
   "source": [
    "#FizzBuzz\n",
    "\n",
    "#start the counter at 1\n",
    "counter = 1\n",
    "\n",
    "# for loop to iterate from 1 to 100\n",
    "for counter in range(1,101):\n",
    "    \n",
    "    #checks if the counter is divisible by 15\n",
    "    if counter % 3 == 0 and counter % 5 == 0:  \n",
    "        print(\"FizzBuzz\")     \n",
    "    \n",
    "    #checks if the counter is divisible by 3\n",
    "    elif counter % 3 == 0:                     \n",
    "        print(\"Fizz\")  \n",
    "    \n",
    "    #checks if the counter is divisible by 5\n",
    "    elif counter % 5 == 0:                     \n",
    "        print(\"buzz\")\n",
    "    \n",
    "    #the case in which it is not divisible\n",
    "    else:                                      \n",
    "        print(counter)"
   ]
  }
 ],
 "metadata": {
  "anaconda-cloud": {},
  "kernelspec": {
   "display_name": "Python 3",
   "language": "python",
   "name": "python3"
  },
  "language_info": {
   "codemirror_mode": {
    "name": "ipython",
    "version": 3
   },
   "file_extension": ".py",
   "mimetype": "text/x-python",
   "name": "python",
   "nbconvert_exporter": "python",
   "pygments_lexer": "ipython3",
   "version": "3.6.8"
  }
 },
 "nbformat": 4,
 "nbformat_minor": 2
}
