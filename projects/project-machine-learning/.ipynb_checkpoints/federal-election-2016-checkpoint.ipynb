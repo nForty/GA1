{
 "cells": [
  {
   "cell_type": "markdown",
   "metadata": {},
   "source": [
    "## Introduction\n",
    "___\n",
    "We have discussed overfitting in the context of bias and variance, and we have touched on some techniques that are used to avoid overfitting. In this project, we will practice a fundamental method for avoiding overfitting that is commonly referred to as: three-way split with cross-validation.\n",
    "\n",
    "This serves two useful purposes:\n",
    "- We prevent overfitting by not using all of the data.\n",
    "- We have some remaining data we can use to evaluate our model.\n",
    "\n",
    "While this may seem like a relatively simple idea, there are some caveats to putting it into practice. For example, if you are not careful, it is easy to take a non-random split. Suppose we have salary data on technical professionals that is composed of 80 percent data from New South Wales, 20 percent data from elsewhere, and is sorted by state. If we split our data into 80 percent training data and 20 percent testing data, we might inadvertantly select all the NSW data to train and all the non-NSW data to test. In this case, we've still overfit on our data set because we did not sufficiently randomise the data.\n",
    "\n",
    "We have also discussed underfitting and how certain models can be inappropriate for our data or need to be tuned to provide better results. In this project, we will try out different models, compare them against each other and practice hyperparameter tuning."
   ]
  },
  {
   "cell_type": "markdown",
   "metadata": {},
   "source": [
    "## Project Objectives\n",
    "___\n",
    "The goal of the project is to create multiple machine learning models to make predictions on the dataset containig the results of the Federal Election in Australia in 2016.\n",
    "\n",
    "To complete this project you will need to solve one regression and one classification problem. In particular, you will need to estimate the turnout at the election and predict which of the two parties, ALP or LP, will receive more votes in each electorate. \n",
    "\n",
    "For this project, it is required that you try several models and compare their performance. For example, you could pick two different subsets of variables, one or more polynomial models, or any other model you like. You are also expected to implement both a Logistic Regression and k-Nearest Neighbours to solve the classification task. "
   ]
  },
  {
   "cell_type": "code",
   "execution_count": 162,
   "metadata": {},
   "outputs": [],
   "source": [
    "#turn out of the country and predict the outcome\n",
    "\n",
    "import os\n",
    "import pandas as pd\n",
    "import numpy as np\n",
    "import seaborn as sns\n",
    "from matplotlib import pyplot as plt\n",
    "from sklearn.linear_model import Ridge, Lasso, ElasticNet, LinearRegression, RidgeCV, LassoCV, ElasticNetCV\n",
    "from sklearn.preprocessing import PolynomialFeatures\n",
    "\n",
    "%matplotlib inline\n",
    "\n",
    "plt.style.use('seaborn')\n",
    "plt.rcParams['figure.figsize'] = (15, 5)\n",
    "plt.rcParams['axes.titlesize'] = 20\n",
    "plt.rcParams['axes.labelsize'] = 16\n",
    "plt.rcParams['xtick.labelsize'] = 14\n",
    "plt.rcParams['ytick.labelsize'] = 14\n",
    "\n",
    "DATA_PATH = './data/'\n",
    "\n"
   ]
  },
  {
   "cell_type": "markdown",
   "metadata": {},
   "source": [
    "## Load data"
   ]
  },
  {
   "cell_type": "code",
   "execution_count": 2,
   "metadata": {},
   "outputs": [
    {
     "name": "stdout",
     "output_type": "stream",
     "text": [
      "(150, 108)\n"
     ]
    },
    {
     "data": {
      "text/html": [
       "<div>\n",
       "<style scoped>\n",
       "    .dataframe tbody tr th:only-of-type {\n",
       "        vertical-align: middle;\n",
       "    }\n",
       "\n",
       "    .dataframe tbody tr th {\n",
       "        vertical-align: top;\n",
       "    }\n",
       "\n",
       "    .dataframe thead th {\n",
       "        text-align: right;\n",
       "    }\n",
       "</style>\n",
       "<table border=\"1\" class=\"dataframe\">\n",
       "  <thead>\n",
       "    <tr style=\"text-align: right;\">\n",
       "      <th></th>\n",
       "      <th>CED</th>\n",
       "      <th>Family1Child</th>\n",
       "      <th>Family2Children</th>\n",
       "      <th>Family3Children</th>\n",
       "      <th>Family4Children</th>\n",
       "      <th>Family5Children</th>\n",
       "      <th>Family6PlusChildren</th>\n",
       "      <th>FamilyChildrenNA</th>\n",
       "      <th>HHInc_Negative</th>\n",
       "      <th>HHInc_Nil</th>\n",
       "      <th>...</th>\n",
       "      <th>Ed_Not_stated</th>\n",
       "      <th>Ed_Not_applicable</th>\n",
       "      <th>LabourForceStatus_Employed_worked_FT</th>\n",
       "      <th>LabourForceStatus_Employed_worked_PT</th>\n",
       "      <th>LabourForceStatus_Employed_away_from_work</th>\n",
       "      <th>LabourForceStatus_Unemployed_looking_for_FT</th>\n",
       "      <th>LabourForceStatus_Unemployed_looking_for_PT</th>\n",
       "      <th>LabourForceStatus_Not_in_the_labour_force</th>\n",
       "      <th>LabourForceStatus_Not_stated</th>\n",
       "      <th>LabourForceStatus_Not_applicable</th>\n",
       "    </tr>\n",
       "  </thead>\n",
       "  <tbody>\n",
       "    <tr>\n",
       "      <th>0</th>\n",
       "      <td>Banks</td>\n",
       "      <td>11868</td>\n",
       "      <td>11201</td>\n",
       "      <td>3593</td>\n",
       "      <td>843</td>\n",
       "      <td>180</td>\n",
       "      <td>73</td>\n",
       "      <td>33478</td>\n",
       "      <td>127</td>\n",
       "      <td>831</td>\n",
       "      <td>...</td>\n",
       "      <td>9559</td>\n",
       "      <td>27413</td>\n",
       "      <td>46085</td>\n",
       "      <td>23083</td>\n",
       "      <td>3557</td>\n",
       "      <td>2418</td>\n",
       "      <td>2403</td>\n",
       "      <td>45079</td>\n",
       "      <td>5770</td>\n",
       "      <td>27413</td>\n",
       "    </tr>\n",
       "    <tr>\n",
       "      <th>1</th>\n",
       "      <td>Barton</td>\n",
       "      <td>13019</td>\n",
       "      <td>10308</td>\n",
       "      <td>3238</td>\n",
       "      <td>871</td>\n",
       "      <td>177</td>\n",
       "      <td>69</td>\n",
       "      <td>41666</td>\n",
       "      <td>168</td>\n",
       "      <td>1347</td>\n",
       "      <td>...</td>\n",
       "      <td>13331</td>\n",
       "      <td>27569</td>\n",
       "      <td>52297</td>\n",
       "      <td>26219</td>\n",
       "      <td>4158</td>\n",
       "      <td>2957</td>\n",
       "      <td>2884</td>\n",
       "      <td>47775</td>\n",
       "      <td>8992</td>\n",
       "      <td>27569</td>\n",
       "    </tr>\n",
       "    <tr>\n",
       "      <th>2</th>\n",
       "      <td>Bennelong</td>\n",
       "      <td>12778</td>\n",
       "      <td>11897</td>\n",
       "      <td>3284</td>\n",
       "      <td>571</td>\n",
       "      <td>81</td>\n",
       "      <td>19</td>\n",
       "      <td>38867</td>\n",
       "      <td>163</td>\n",
       "      <td>1461</td>\n",
       "      <td>...</td>\n",
       "      <td>9112</td>\n",
       "      <td>28399</td>\n",
       "      <td>53794</td>\n",
       "      <td>24530</td>\n",
       "      <td>3651</td>\n",
       "      <td>2673</td>\n",
       "      <td>2920</td>\n",
       "      <td>47155</td>\n",
       "      <td>5819</td>\n",
       "      <td>28399</td>\n",
       "    </tr>\n",
       "    <tr>\n",
       "      <th>3</th>\n",
       "      <td>Berowra</td>\n",
       "      <td>9604</td>\n",
       "      <td>12304</td>\n",
       "      <td>4227</td>\n",
       "      <td>946</td>\n",
       "      <td>156</td>\n",
       "      <td>68</td>\n",
       "      <td>24731</td>\n",
       "      <td>63</td>\n",
       "      <td>418</td>\n",
       "      <td>...</td>\n",
       "      <td>7493</td>\n",
       "      <td>28000</td>\n",
       "      <td>45216</td>\n",
       "      <td>24034</td>\n",
       "      <td>3046</td>\n",
       "      <td>1587</td>\n",
       "      <td>1733</td>\n",
       "      <td>36866</td>\n",
       "      <td>4655</td>\n",
       "      <td>28000</td>\n",
       "    </tr>\n",
       "    <tr>\n",
       "      <th>4</th>\n",
       "      <td>Blaxland</td>\n",
       "      <td>11650</td>\n",
       "      <td>10429</td>\n",
       "      <td>5160</td>\n",
       "      <td>2172</td>\n",
       "      <td>693</td>\n",
       "      <td>341</td>\n",
       "      <td>30545</td>\n",
       "      <td>209</td>\n",
       "      <td>1017</td>\n",
       "      <td>...</td>\n",
       "      <td>13620</td>\n",
       "      <td>36885</td>\n",
       "      <td>39035</td>\n",
       "      <td>21541</td>\n",
       "      <td>3884</td>\n",
       "      <td>4045</td>\n",
       "      <td>3302</td>\n",
       "      <td>57156</td>\n",
       "      <td>8780</td>\n",
       "      <td>36885</td>\n",
       "    </tr>\n",
       "  </tbody>\n",
       "</table>\n",
       "<p>5 rows × 108 columns</p>\n",
       "</div>"
      ],
      "text/plain": [
       "         CED  Family1Child  Family2Children  Family3Children  Family4Children  \\\n",
       "0      Banks         11868            11201             3593              843   \n",
       "1     Barton         13019            10308             3238              871   \n",
       "2  Bennelong         12778            11897             3284              571   \n",
       "3    Berowra          9604            12304             4227              946   \n",
       "4   Blaxland         11650            10429             5160             2172   \n",
       "\n",
       "   Family5Children  Family6PlusChildren  FamilyChildrenNA  HHInc_Negative  \\\n",
       "0              180                   73             33478             127   \n",
       "1              177                   69             41666             168   \n",
       "2               81                   19             38867             163   \n",
       "3              156                   68             24731              63   \n",
       "4              693                  341             30545             209   \n",
       "\n",
       "   HHInc_Nil  ...  Ed_Not_stated  Ed_Not_applicable  \\\n",
       "0        831  ...           9559              27413   \n",
       "1       1347  ...          13331              27569   \n",
       "2       1461  ...           9112              28399   \n",
       "3        418  ...           7493              28000   \n",
       "4       1017  ...          13620              36885   \n",
       "\n",
       "   LabourForceStatus_Employed_worked_FT  LabourForceStatus_Employed_worked_PT  \\\n",
       "0                                 46085                                 23083   \n",
       "1                                 52297                                 26219   \n",
       "2                                 53794                                 24530   \n",
       "3                                 45216                                 24034   \n",
       "4                                 39035                                 21541   \n",
       "\n",
       "   LabourForceStatus_Employed_away_from_work  \\\n",
       "0                                       3557   \n",
       "1                                       4158   \n",
       "2                                       3651   \n",
       "3                                       3046   \n",
       "4                                       3884   \n",
       "\n",
       "   LabourForceStatus_Unemployed_looking_for_FT  \\\n",
       "0                                         2418   \n",
       "1                                         2957   \n",
       "2                                         2673   \n",
       "3                                         1587   \n",
       "4                                         4045   \n",
       "\n",
       "   LabourForceStatus_Unemployed_looking_for_PT  \\\n",
       "0                                         2403   \n",
       "1                                         2884   \n",
       "2                                         2920   \n",
       "3                                         1733   \n",
       "4                                         3302   \n",
       "\n",
       "   LabourForceStatus_Not_in_the_labour_force  LabourForceStatus_Not_stated  \\\n",
       "0                                      45079                          5770   \n",
       "1                                      47775                          8992   \n",
       "2                                      47155                          5819   \n",
       "3                                      36866                          4655   \n",
       "4                                      57156                          8780   \n",
       "\n",
       "   LabourForceStatus_Not_applicable  \n",
       "0                             27413  \n",
       "1                             27569  \n",
       "2                             28399  \n",
       "3                             28000  \n",
       "4                             36885  \n",
       "\n",
       "[5 rows x 108 columns]"
      ]
     },
     "execution_count": 2,
     "metadata": {},
     "output_type": "execute_result"
    }
   ],
   "source": [
    "census = pd.read_csv(DATA_PATH + 'Census2016ElectoralDivision.csv')\n",
    "#census.rename(str.lower, axis='columns', inplace=True)\n",
    "print(census.shape)\n",
    "census.head()"
   ]
  },
  {
   "cell_type": "code",
   "execution_count": 3,
   "metadata": {},
   "outputs": [
    {
     "name": "stdout",
     "output_type": "stream",
     "text": [
      "(150, 57)\n"
     ]
    },
    {
     "data": {
      "text/html": [
       "<div>\n",
       "<style scoped>\n",
       "    .dataframe tbody tr th:only-of-type {\n",
       "        vertical-align: middle;\n",
       "    }\n",
       "\n",
       "    .dataframe tbody tr th {\n",
       "        vertical-align: top;\n",
       "    }\n",
       "\n",
       "    .dataframe thead th {\n",
       "        text-align: right;\n",
       "    }\n",
       "</style>\n",
       "<table border=\"1\" class=\"dataframe\">\n",
       "  <thead>\n",
       "    <tr style=\"text-align: right;\">\n",
       "      <th></th>\n",
       "      <th>CED</th>\n",
       "      <th>DivisionID</th>\n",
       "      <th>State</th>\n",
       "      <th>Enrolment</th>\n",
       "      <th>Turnout</th>\n",
       "      <th>WinningParty</th>\n",
       "      <th>ALP</th>\n",
       "      <th>LP</th>\n",
       "      <th>LNP</th>\n",
       "      <th>NP</th>\n",
       "      <th>...</th>\n",
       "      <th>PUP</th>\n",
       "      <th>REP</th>\n",
       "      <th>RUA</th>\n",
       "      <th>SAL</th>\n",
       "      <th>SEP</th>\n",
       "      <th>SMK</th>\n",
       "      <th>SOL</th>\n",
       "      <th>SPP</th>\n",
       "      <th>VEP</th>\n",
       "      <th>XEN</th>\n",
       "    </tr>\n",
       "  </thead>\n",
       "  <tbody>\n",
       "    <tr>\n",
       "      <th>0</th>\n",
       "      <td>Canberra</td>\n",
       "      <td>101</td>\n",
       "      <td>ACT</td>\n",
       "      <td>143231</td>\n",
       "      <td>128720</td>\n",
       "      <td>ALP</td>\n",
       "      <td>75247</td>\n",
       "      <td>53473</td>\n",
       "      <td>0</td>\n",
       "      <td>0</td>\n",
       "      <td>...</td>\n",
       "      <td>0</td>\n",
       "      <td>0</td>\n",
       "      <td>0</td>\n",
       "      <td>0</td>\n",
       "      <td>0</td>\n",
       "      <td>0</td>\n",
       "      <td>0</td>\n",
       "      <td>0</td>\n",
       "      <td>0</td>\n",
       "      <td>0</td>\n",
       "    </tr>\n",
       "    <tr>\n",
       "      <th>1</th>\n",
       "      <td>Fenner</td>\n",
       "      <td>102</td>\n",
       "      <td>ACT</td>\n",
       "      <td>138814</td>\n",
       "      <td>124022</td>\n",
       "      <td>ALP</td>\n",
       "      <td>79242</td>\n",
       "      <td>44780</td>\n",
       "      <td>0</td>\n",
       "      <td>0</td>\n",
       "      <td>...</td>\n",
       "      <td>0</td>\n",
       "      <td>0</td>\n",
       "      <td>0</td>\n",
       "      <td>0</td>\n",
       "      <td>0</td>\n",
       "      <td>0</td>\n",
       "      <td>0</td>\n",
       "      <td>0</td>\n",
       "      <td>0</td>\n",
       "      <td>0</td>\n",
       "    </tr>\n",
       "    <tr>\n",
       "      <th>2</th>\n",
       "      <td>Banks</td>\n",
       "      <td>103</td>\n",
       "      <td>NSW</td>\n",
       "      <td>104891</td>\n",
       "      <td>89832</td>\n",
       "      <td>LP</td>\n",
       "      <td>43622</td>\n",
       "      <td>46210</td>\n",
       "      <td>0</td>\n",
       "      <td>0</td>\n",
       "      <td>...</td>\n",
       "      <td>0</td>\n",
       "      <td>0</td>\n",
       "      <td>0</td>\n",
       "      <td>0</td>\n",
       "      <td>0</td>\n",
       "      <td>0</td>\n",
       "      <td>0</td>\n",
       "      <td>0</td>\n",
       "      <td>0</td>\n",
       "      <td>0</td>\n",
       "    </tr>\n",
       "    <tr>\n",
       "      <th>3</th>\n",
       "      <td>Barton</td>\n",
       "      <td>104</td>\n",
       "      <td>NSW</td>\n",
       "      <td>106511</td>\n",
       "      <td>87702</td>\n",
       "      <td>ALP</td>\n",
       "      <td>51131</td>\n",
       "      <td>36571</td>\n",
       "      <td>0</td>\n",
       "      <td>0</td>\n",
       "      <td>...</td>\n",
       "      <td>0</td>\n",
       "      <td>0</td>\n",
       "      <td>0</td>\n",
       "      <td>0</td>\n",
       "      <td>0</td>\n",
       "      <td>0</td>\n",
       "      <td>0</td>\n",
       "      <td>0</td>\n",
       "      <td>0</td>\n",
       "      <td>0</td>\n",
       "    </tr>\n",
       "    <tr>\n",
       "      <th>4</th>\n",
       "      <td>Bennelong</td>\n",
       "      <td>105</td>\n",
       "      <td>NSW</td>\n",
       "      <td>105962</td>\n",
       "      <td>92231</td>\n",
       "      <td>LP</td>\n",
       "      <td>37154</td>\n",
       "      <td>55077</td>\n",
       "      <td>0</td>\n",
       "      <td>0</td>\n",
       "      <td>...</td>\n",
       "      <td>0</td>\n",
       "      <td>0</td>\n",
       "      <td>0</td>\n",
       "      <td>0</td>\n",
       "      <td>0</td>\n",
       "      <td>0</td>\n",
       "      <td>0</td>\n",
       "      <td>0</td>\n",
       "      <td>0</td>\n",
       "      <td>0</td>\n",
       "    </tr>\n",
       "  </tbody>\n",
       "</table>\n",
       "<p>5 rows × 57 columns</p>\n",
       "</div>"
      ],
      "text/plain": [
       "         CED  DivisionID State  Enrolment  Turnout WinningParty    ALP     LP  \\\n",
       "0   Canberra         101   ACT     143231   128720          ALP  75247  53473   \n",
       "1     Fenner         102   ACT     138814   124022          ALP  79242  44780   \n",
       "2      Banks         103   NSW     104891    89832           LP  43622  46210   \n",
       "3     Barton         104   NSW     106511    87702          ALP  51131  36571   \n",
       "4  Bennelong         105   NSW     105962    92231           LP  37154  55077   \n",
       "\n",
       "   LNP  NP  ...  PUP  REP  RUA  SAL  SEP  SMK  SOL  SPP  VEP  XEN  \n",
       "0    0   0  ...    0    0    0    0    0    0    0    0    0    0  \n",
       "1    0   0  ...    0    0    0    0    0    0    0    0    0    0  \n",
       "2    0   0  ...    0    0    0    0    0    0    0    0    0    0  \n",
       "3    0   0  ...    0    0    0    0    0    0    0    0    0    0  \n",
       "4    0   0  ...    0    0    0    0    0    0    0    0    0    0  \n",
       "\n",
       "[5 rows x 57 columns]"
      ]
     },
     "execution_count": 3,
     "metadata": {},
     "output_type": "execute_result"
    }
   ],
   "source": [
    "results = pd.read_csv(DATA_PATH + 'ElectionResults2016.csv')\n",
    "#results.rename(str.lower, axis='columns', inplace=True)\n",
    "print(results.shape)\n",
    "results.head()"
   ]
  },
  {
   "cell_type": "code",
   "execution_count": 4,
   "metadata": {},
   "outputs": [
    {
     "name": "stdout",
     "output_type": "stream",
     "text": [
      "(51, 2)\n"
     ]
    },
    {
     "data": {
      "text/html": [
       "<div>\n",
       "<style scoped>\n",
       "    .dataframe tbody tr th:only-of-type {\n",
       "        vertical-align: middle;\n",
       "    }\n",
       "\n",
       "    .dataframe tbody tr th {\n",
       "        vertical-align: top;\n",
       "    }\n",
       "\n",
       "    .dataframe thead th {\n",
       "        text-align: right;\n",
       "    }\n",
       "</style>\n",
       "<table border=\"1\" class=\"dataframe\">\n",
       "  <thead>\n",
       "    <tr style=\"text-align: right;\">\n",
       "      <th></th>\n",
       "      <th>Party</th>\n",
       "      <th>PartyName</th>\n",
       "    </tr>\n",
       "  </thead>\n",
       "  <tbody>\n",
       "    <tr>\n",
       "      <th>0</th>\n",
       "      <td>ALP</td>\n",
       "      <td>Australian Labor Party</td>\n",
       "    </tr>\n",
       "    <tr>\n",
       "      <th>1</th>\n",
       "      <td>GRN</td>\n",
       "      <td>The Greens</td>\n",
       "    </tr>\n",
       "    <tr>\n",
       "      <th>2</th>\n",
       "      <td>BTA</td>\n",
       "      <td>Bullet Train For Australia</td>\n",
       "    </tr>\n",
       "    <tr>\n",
       "      <th>3</th>\n",
       "      <td>LP</td>\n",
       "      <td>Liberal</td>\n",
       "    </tr>\n",
       "    <tr>\n",
       "      <th>4</th>\n",
       "      <td>IND</td>\n",
       "      <td>Independent</td>\n",
       "    </tr>\n",
       "  </tbody>\n",
       "</table>\n",
       "</div>"
      ],
      "text/plain": [
       "  Party                   PartyName\n",
       "0   ALP      Australian Labor Party\n",
       "1   GRN                  The Greens\n",
       "2   BTA  Bullet Train For Australia\n",
       "3    LP                     Liberal\n",
       "4   IND                 Independent"
      ]
     },
     "execution_count": 4,
     "metadata": {},
     "output_type": "execute_result"
    }
   ],
   "source": [
    "parties = pd.read_csv(DATA_PATH + 'Parties2016.csv')\n",
    "print(parties.shape)\n",
    "parties.head()"
   ]
  },
  {
   "cell_type": "markdown",
   "metadata": {},
   "source": [
    "## Exploratory Data Analysis"
   ]
  },
  {
   "cell_type": "markdown",
   "metadata": {},
   "source": [
    "### Census dataset"
   ]
  },
  {
   "cell_type": "code",
   "execution_count": 5,
   "metadata": {},
   "outputs": [
    {
     "data": {
      "text/plain": [
       "int64     107\n",
       "object      1\n",
       "dtype: int64"
      ]
     },
     "execution_count": 5,
     "metadata": {},
     "output_type": "execute_result"
    }
   ],
   "source": [
    "census.dtypes.value_counts()"
   ]
  },
  {
   "cell_type": "code",
   "execution_count": 124,
   "metadata": {},
   "outputs": [
    {
     "data": {
      "text/plain": [
       "CED                                             object\n",
       "Family1Child                                     int64\n",
       "Family2Children                                  int64\n",
       "Family3Children                                  int64\n",
       "Family4Children                                  int64\n",
       "Family5Children                                  int64\n",
       "Family6PlusChildren                              int64\n",
       "FamilyChildrenNA                                 int64\n",
       "HHInc_Negative                                   int64\n",
       "HHInc_Nil                                        int64\n",
       "HHInc_1_149                                      int64\n",
       "HHInc_150_299                                    int64\n",
       "HHInc_300_399                                    int64\n",
       "HHInc_400_499                                    int64\n",
       "HHInc_500_649                                    int64\n",
       "HHInc_650_799                                    int64\n",
       "HHInc_800_999                                    int64\n",
       "HHInc_1000_1249                                  int64\n",
       "HHInc_1250_1499                                  int64\n",
       "HHInc_1500_1749                                  int64\n",
       "HHInc_1750_1999                                  int64\n",
       "HHInc_2000_2499                                  int64\n",
       "HHInc_2500_2999                                  int64\n",
       "HHInc_3000_3499                                  int64\n",
       "HHInc_3500_3999                                  int64\n",
       "HHInc_4000_4499                                  int64\n",
       "HHInc_4500_4999                                  int64\n",
       "HHInc_5000_5999                                  int64\n",
       "HHInc_6000_7999                                  int64\n",
       "HHInc_8000_Plus                                  int64\n",
       "                                                 ...  \n",
       "Age_95_99                                        int64\n",
       "Age_100_Plus                                     int64\n",
       "NeverMarried                                     int64\n",
       "Widowed                                          int64\n",
       "Divorced                                         int64\n",
       "Separated                                        int64\n",
       "Married                                          int64\n",
       "MaritalStatusNA                                  int64\n",
       "Male                                             int64\n",
       "Female                                           int64\n",
       "Population                                       int64\n",
       "Ed_Postgraduate_Degree                           int64\n",
       "Ed_Graduate_Diploma_and_Graduate_Certificate     int64\n",
       "Ed_Bachelor_Degree                               int64\n",
       "Ed_Advanced_Diploma_and_Diploma                  int64\n",
       "Ed_Certificate_III_IV                            int64\n",
       "Ed_Secondary_Education_Years_10_and_above        int64\n",
       "Ed_Certificate_I_II                              int64\n",
       "Ed_Secondary_Education_Years_9_and_below         int64\n",
       "Ed_Supplementary_Codes                           int64\n",
       "Ed_Not_stated                                    int64\n",
       "Ed_Not_applicable                                int64\n",
       "LabourForceStatus_Employed_worked_FT             int64\n",
       "LabourForceStatus_Employed_worked_PT             int64\n",
       "LabourForceStatus_Employed_away_from_work        int64\n",
       "LabourForceStatus_Unemployed_looking_for_FT      int64\n",
       "LabourForceStatus_Unemployed_looking_for_PT      int64\n",
       "LabourForceStatus_Not_in_the_labour_force        int64\n",
       "LabourForceStatus_Not_stated                     int64\n",
       "LabourForceStatus_Not_applicable                 int64\n",
       "Length: 108, dtype: object"
      ]
     },
     "execution_count": 124,
     "metadata": {},
     "output_type": "execute_result"
    }
   ],
   "source": [
    "census.dtypes"
   ]
  },
  {
   "cell_type": "code",
   "execution_count": 7,
   "metadata": {},
   "outputs": [
    {
     "data": {
      "text/plain": [
       "['CED',\n",
       " 'Family1Child',\n",
       " 'Family2Children',\n",
       " 'Family3Children',\n",
       " 'Family4Children',\n",
       " 'Family5Children',\n",
       " 'Family6PlusChildren',\n",
       " 'FamilyChildrenNA',\n",
       " 'HHInc_Negative',\n",
       " 'HHInc_Nil',\n",
       " 'HHInc_1_149',\n",
       " 'HHInc_150_299',\n",
       " 'HHInc_300_399',\n",
       " 'HHInc_400_499',\n",
       " 'HHInc_500_649',\n",
       " 'HHInc_650_799',\n",
       " 'HHInc_800_999',\n",
       " 'HHInc_1000_1249',\n",
       " 'HHInc_1250_1499',\n",
       " 'HHInc_1500_1749',\n",
       " 'HHInc_1750_1999',\n",
       " 'HHInc_2000_2499',\n",
       " 'HHInc_2500_2999',\n",
       " 'HHInc_3000_3499',\n",
       " 'HHInc_3500_3999',\n",
       " 'HHInc_4000_4499',\n",
       " 'HHInc_4500_4999',\n",
       " 'HHInc_5000_5999',\n",
       " 'HHInc_6000_7999',\n",
       " 'HHInc_8000_Plus',\n",
       " 'HHInc_Partial',\n",
       " 'HHInc_All_incomes_not_stated',\n",
       " 'HHInc_NA',\n",
       " 'HHTotal',\n",
       " 'Rent_Nil',\n",
       " 'Rent_1_74',\n",
       " 'Rent_75_99',\n",
       " 'Rent_100_124',\n",
       " 'Rent_125_149',\n",
       " 'Rent_150_174',\n",
       " 'Rent_175_199',\n",
       " 'Rent_200_224',\n",
       " 'Rent_225_249',\n",
       " 'Rent_250_274',\n",
       " 'Rent_275_299',\n",
       " 'Rent_300_324',\n",
       " 'Rent_325_349',\n",
       " 'Rent_350_374',\n",
       " 'Rent_375_399',\n",
       " 'Rent_400_424',\n",
       " 'Rent_425_449',\n",
       " 'Rent_450_549',\n",
       " 'Rent_550_649',\n",
       " 'Rent_650_749',\n",
       " 'Rent_750_849',\n",
       " 'Rent_850_949',\n",
       " 'Rent_950_Plus',\n",
       " 'Rent_Not_stated',\n",
       " 'Rent_Not_applicable',\n",
       " 'Age_0_4',\n",
       " 'Age_5_9',\n",
       " 'Age_10_14',\n",
       " 'Age_15_19',\n",
       " 'Age_20_24',\n",
       " 'Age_25_29',\n",
       " 'Age_30_34',\n",
       " 'Age_35_39',\n",
       " 'Age_40_44',\n",
       " 'Age_45_49',\n",
       " 'Age_50_54',\n",
       " 'Age_55_59',\n",
       " 'Age_60_64',\n",
       " 'Age_65_69',\n",
       " 'Age_70_74',\n",
       " 'Age_75_79',\n",
       " 'Age_80_84',\n",
       " 'Age_85_89',\n",
       " 'Age_90_94',\n",
       " 'Age_95_99',\n",
       " 'Age_100_Plus',\n",
       " 'NeverMarried',\n",
       " 'Widowed',\n",
       " 'Divorced',\n",
       " 'Separated',\n",
       " 'Married',\n",
       " 'MaritalStatusNA',\n",
       " 'Male',\n",
       " 'Female',\n",
       " 'Population',\n",
       " 'Ed_Postgraduate_Degree',\n",
       " 'Ed_Graduate_Diploma_and_Graduate_Certificate',\n",
       " 'Ed_Bachelor_Degree',\n",
       " 'Ed_Advanced_Diploma_and_Diploma',\n",
       " 'Ed_Certificate_III_IV',\n",
       " 'Ed_Secondary_Education_Years_10_and_above',\n",
       " 'Ed_Certificate_I_II',\n",
       " 'Ed_Secondary_Education_Years_9_and_below',\n",
       " 'Ed_Supplementary_Codes',\n",
       " 'Ed_Not_stated',\n",
       " 'Ed_Not_applicable',\n",
       " 'LabourForceStatus_Employed_worked_FT',\n",
       " 'LabourForceStatus_Employed_worked_PT',\n",
       " 'LabourForceStatus_Employed_away_from_work',\n",
       " 'LabourForceStatus_Unemployed_looking_for_FT',\n",
       " 'LabourForceStatus_Unemployed_looking_for_PT',\n",
       " 'LabourForceStatus_Not_in_the_labour_force',\n",
       " 'LabourForceStatus_Not_stated',\n",
       " 'LabourForceStatus_Not_applicable']"
      ]
     },
     "execution_count": 7,
     "metadata": {},
     "output_type": "execute_result"
    }
   ],
   "source": [
    "list(census.columns)"
   ]
  },
  {
   "cell_type": "markdown",
   "metadata": {},
   "source": [
    "**The dataset contains the following information about each electorate:**\n",
    "- Name of the Commonwealth Electorate Division (CED)\n",
    "- Aggregated data\n",
    "    - Number of children in a family\n",
    "    - Total household income\n",
    "    - Weekly rent\n",
    "- Individual data\n",
    "    - Age\n",
    "    - Marital status\n",
    "    - Gender and total population\n",
    "    - Level of education\n",
    "    - Labour force status"
   ]
  },
  {
   "cell_type": "markdown",
   "metadata": {},
   "source": [
    "###### Are there any missing values?"
   ]
  },
  {
   "cell_type": "code",
   "execution_count": 8,
   "metadata": {},
   "outputs": [
    {
     "data": {
      "text/plain": [
       "0"
      ]
     },
     "execution_count": 8,
     "metadata": {},
     "output_type": "execute_result"
    }
   ],
   "source": [
    "census.isnull().sum().sum()"
   ]
  },
  {
   "cell_type": "markdown",
   "metadata": {},
   "source": [
    "###### Summary statistics"
   ]
  },
  {
   "cell_type": "code",
   "execution_count": 9,
   "metadata": {},
   "outputs": [
    {
     "data": {
      "text/html": [
       "<div>\n",
       "<style scoped>\n",
       "    .dataframe tbody tr th:only-of-type {\n",
       "        vertical-align: middle;\n",
       "    }\n",
       "\n",
       "    .dataframe tbody tr th {\n",
       "        vertical-align: top;\n",
       "    }\n",
       "\n",
       "    .dataframe thead th {\n",
       "        text-align: right;\n",
       "    }\n",
       "</style>\n",
       "<table border=\"1\" class=\"dataframe\">\n",
       "  <thead>\n",
       "    <tr style=\"text-align: right;\">\n",
       "      <th></th>\n",
       "      <th>Family1Child</th>\n",
       "      <th>Family2Children</th>\n",
       "      <th>Family3Children</th>\n",
       "      <th>Family4Children</th>\n",
       "      <th>Family5Children</th>\n",
       "      <th>Family6PlusChildren</th>\n",
       "      <th>FamilyChildrenNA</th>\n",
       "      <th>HHInc_Negative</th>\n",
       "      <th>HHInc_Nil</th>\n",
       "      <th>HHInc_1_149</th>\n",
       "      <th>...</th>\n",
       "      <th>Ed_Not_stated</th>\n",
       "      <th>Ed_Not_applicable</th>\n",
       "      <th>LabourForceStatus_Employed_worked_FT</th>\n",
       "      <th>LabourForceStatus_Employed_worked_PT</th>\n",
       "      <th>LabourForceStatus_Employed_away_from_work</th>\n",
       "      <th>LabourForceStatus_Unemployed_looking_for_FT</th>\n",
       "      <th>LabourForceStatus_Unemployed_looking_for_PT</th>\n",
       "      <th>LabourForceStatus_Not_in_the_labour_force</th>\n",
       "      <th>LabourForceStatus_Not_stated</th>\n",
       "      <th>LabourForceStatus_Not_applicable</th>\n",
       "    </tr>\n",
       "  </thead>\n",
       "  <tbody>\n",
       "    <tr>\n",
       "      <th>count</th>\n",
       "      <td>150.000000</td>\n",
       "      <td>150.000000</td>\n",
       "      <td>150.000000</td>\n",
       "      <td>150.000000</td>\n",
       "      <td>150.000000</td>\n",
       "      <td>150.000000</td>\n",
       "      <td>150.00000</td>\n",
       "      <td>150.000000</td>\n",
       "      <td>150.000000</td>\n",
       "      <td>150.000000</td>\n",
       "      <td>...</td>\n",
       "      <td>150.000000</td>\n",
       "      <td>150.000000</td>\n",
       "      <td>150.000000</td>\n",
       "      <td>150.000000</td>\n",
       "      <td>150.00000</td>\n",
       "      <td>150.000000</td>\n",
       "      <td>150.000000</td>\n",
       "      <td>150.000000</td>\n",
       "      <td>150.000000</td>\n",
       "      <td>150.000000</td>\n",
       "    </tr>\n",
       "    <tr>\n",
       "      <th>mean</th>\n",
       "      <td>10172.173333</td>\n",
       "      <td>9564.186667</td>\n",
       "      <td>3503.900000</td>\n",
       "      <td>941.866667</td>\n",
       "      <td>216.520000</td>\n",
       "      <td>106.626667</td>\n",
       "      <td>39277.80000</td>\n",
       "      <td>143.513333</td>\n",
       "      <td>776.593333</td>\n",
       "      <td>423.380000</td>\n",
       "      <td>...</td>\n",
       "      <td>13082.886667</td>\n",
       "      <td>29075.166667</td>\n",
       "      <td>44103.160000</td>\n",
       "      <td>23252.326667</td>\n",
       "      <td>3786.08000</td>\n",
       "      <td>2966.793333</td>\n",
       "      <td>2259.693333</td>\n",
       "      <td>41876.800000</td>\n",
       "      <td>8383.793333</td>\n",
       "      <td>29075.166667</td>\n",
       "    </tr>\n",
       "    <tr>\n",
       "      <th>std</th>\n",
       "      <td>1794.991140</td>\n",
       "      <td>2162.052031</td>\n",
       "      <td>855.766713</td>\n",
       "      <td>379.797662</td>\n",
       "      <td>127.966791</td>\n",
       "      <td>82.788041</td>\n",
       "      <td>9096.05188</td>\n",
       "      <td>53.924971</td>\n",
       "      <td>683.993741</td>\n",
       "      <td>136.794102</td>\n",
       "      <td>...</td>\n",
       "      <td>3490.511317</td>\n",
       "      <td>6115.756937</td>\n",
       "      <td>9229.469592</td>\n",
       "      <td>3234.096890</td>\n",
       "      <td>598.22391</td>\n",
       "      <td>900.794387</td>\n",
       "      <td>703.646065</td>\n",
       "      <td>6776.182349</td>\n",
       "      <td>2773.322429</td>\n",
       "      <td>6115.756937</td>\n",
       "    </tr>\n",
       "    <tr>\n",
       "      <th>min</th>\n",
       "      <td>6199.000000</td>\n",
       "      <td>4137.000000</td>\n",
       "      <td>754.000000</td>\n",
       "      <td>95.000000</td>\n",
       "      <td>13.000000</td>\n",
       "      <td>11.000000</td>\n",
       "      <td>23884.00000</td>\n",
       "      <td>63.000000</td>\n",
       "      <td>273.000000</td>\n",
       "      <td>156.000000</td>\n",
       "      <td>...</td>\n",
       "      <td>6314.000000</td>\n",
       "      <td>13707.000000</td>\n",
       "      <td>22223.000000</td>\n",
       "      <td>9028.000000</td>\n",
       "      <td>2481.00000</td>\n",
       "      <td>1236.000000</td>\n",
       "      <td>1078.000000</td>\n",
       "      <td>17769.000000</td>\n",
       "      <td>3515.000000</td>\n",
       "      <td>13707.000000</td>\n",
       "    </tr>\n",
       "    <tr>\n",
       "      <th>25%</th>\n",
       "      <td>9011.750000</td>\n",
       "      <td>8243.000000</td>\n",
       "      <td>3050.250000</td>\n",
       "      <td>659.250000</td>\n",
       "      <td>130.250000</td>\n",
       "      <td>54.500000</td>\n",
       "      <td>33533.25000</td>\n",
       "      <td>108.000000</td>\n",
       "      <td>518.500000</td>\n",
       "      <td>338.750000</td>\n",
       "      <td>...</td>\n",
       "      <td>10545.250000</td>\n",
       "      <td>25187.250000</td>\n",
       "      <td>38945.750000</td>\n",
       "      <td>21617.250000</td>\n",
       "      <td>3458.00000</td>\n",
       "      <td>2285.500000</td>\n",
       "      <td>1785.750000</td>\n",
       "      <td>36921.250000</td>\n",
       "      <td>6513.000000</td>\n",
       "      <td>25187.250000</td>\n",
       "    </tr>\n",
       "    <tr>\n",
       "      <th>50%</th>\n",
       "      <td>10025.500000</td>\n",
       "      <td>9599.000000</td>\n",
       "      <td>3443.000000</td>\n",
       "      <td>881.000000</td>\n",
       "      <td>181.500000</td>\n",
       "      <td>83.500000</td>\n",
       "      <td>38867.50000</td>\n",
       "      <td>131.500000</td>\n",
       "      <td>607.500000</td>\n",
       "      <td>409.000000</td>\n",
       "      <td>...</td>\n",
       "      <td>12721.000000</td>\n",
       "      <td>27823.500000</td>\n",
       "      <td>42974.500000</td>\n",
       "      <td>23413.500000</td>\n",
       "      <td>3776.50000</td>\n",
       "      <td>2866.500000</td>\n",
       "      <td>2178.000000</td>\n",
       "      <td>41822.000000</td>\n",
       "      <td>8164.500000</td>\n",
       "      <td>27823.500000</td>\n",
       "    </tr>\n",
       "    <tr>\n",
       "      <th>75%</th>\n",
       "      <td>11277.000000</td>\n",
       "      <td>10846.250000</td>\n",
       "      <td>3890.750000</td>\n",
       "      <td>1109.750000</td>\n",
       "      <td>270.500000</td>\n",
       "      <td>125.500000</td>\n",
       "      <td>43326.00000</td>\n",
       "      <td>167.750000</td>\n",
       "      <td>796.250000</td>\n",
       "      <td>484.750000</td>\n",
       "      <td>...</td>\n",
       "      <td>15091.250000</td>\n",
       "      <td>31847.750000</td>\n",
       "      <td>48009.250000</td>\n",
       "      <td>25156.500000</td>\n",
       "      <td>4027.00000</td>\n",
       "      <td>3559.250000</td>\n",
       "      <td>2689.250000</td>\n",
       "      <td>46639.750000</td>\n",
       "      <td>9668.000000</td>\n",
       "      <td>31847.750000</td>\n",
       "    </tr>\n",
       "    <tr>\n",
       "      <th>max</th>\n",
       "      <td>18081.000000</td>\n",
       "      <td>17362.000000</td>\n",
       "      <td>6312.000000</td>\n",
       "      <td>2172.000000</td>\n",
       "      <td>693.000000</td>\n",
       "      <td>427.000000</td>\n",
       "      <td>86140.00000</td>\n",
       "      <td>476.000000</td>\n",
       "      <td>7287.000000</td>\n",
       "      <td>1488.000000</td>\n",
       "      <td>...</td>\n",
       "      <td>26732.000000</td>\n",
       "      <td>56553.000000</td>\n",
       "      <td>77675.000000</td>\n",
       "      <td>31648.000000</td>\n",
       "      <td>6326.00000</td>\n",
       "      <td>5466.000000</td>\n",
       "      <td>6210.000000</td>\n",
       "      <td>57333.000000</td>\n",
       "      <td>23193.000000</td>\n",
       "      <td>56553.000000</td>\n",
       "    </tr>\n",
       "  </tbody>\n",
       "</table>\n",
       "<p>8 rows × 107 columns</p>\n",
       "</div>"
      ],
      "text/plain": [
       "       Family1Child  Family2Children  Family3Children  Family4Children  \\\n",
       "count    150.000000       150.000000       150.000000       150.000000   \n",
       "mean   10172.173333      9564.186667      3503.900000       941.866667   \n",
       "std     1794.991140      2162.052031       855.766713       379.797662   \n",
       "min     6199.000000      4137.000000       754.000000        95.000000   \n",
       "25%     9011.750000      8243.000000      3050.250000       659.250000   \n",
       "50%    10025.500000      9599.000000      3443.000000       881.000000   \n",
       "75%    11277.000000     10846.250000      3890.750000      1109.750000   \n",
       "max    18081.000000     17362.000000      6312.000000      2172.000000   \n",
       "\n",
       "       Family5Children  Family6PlusChildren  FamilyChildrenNA  HHInc_Negative  \\\n",
       "count       150.000000           150.000000         150.00000      150.000000   \n",
       "mean        216.520000           106.626667       39277.80000      143.513333   \n",
       "std         127.966791            82.788041        9096.05188       53.924971   \n",
       "min          13.000000            11.000000       23884.00000       63.000000   \n",
       "25%         130.250000            54.500000       33533.25000      108.000000   \n",
       "50%         181.500000            83.500000       38867.50000      131.500000   \n",
       "75%         270.500000           125.500000       43326.00000      167.750000   \n",
       "max         693.000000           427.000000       86140.00000      476.000000   \n",
       "\n",
       "         HHInc_Nil  HHInc_1_149  ...  Ed_Not_stated  Ed_Not_applicable  \\\n",
       "count   150.000000   150.000000  ...     150.000000         150.000000   \n",
       "mean    776.593333   423.380000  ...   13082.886667       29075.166667   \n",
       "std     683.993741   136.794102  ...    3490.511317        6115.756937   \n",
       "min     273.000000   156.000000  ...    6314.000000       13707.000000   \n",
       "25%     518.500000   338.750000  ...   10545.250000       25187.250000   \n",
       "50%     607.500000   409.000000  ...   12721.000000       27823.500000   \n",
       "75%     796.250000   484.750000  ...   15091.250000       31847.750000   \n",
       "max    7287.000000  1488.000000  ...   26732.000000       56553.000000   \n",
       "\n",
       "       LabourForceStatus_Employed_worked_FT  \\\n",
       "count                            150.000000   \n",
       "mean                           44103.160000   \n",
       "std                             9229.469592   \n",
       "min                            22223.000000   \n",
       "25%                            38945.750000   \n",
       "50%                            42974.500000   \n",
       "75%                            48009.250000   \n",
       "max                            77675.000000   \n",
       "\n",
       "       LabourForceStatus_Employed_worked_PT  \\\n",
       "count                            150.000000   \n",
       "mean                           23252.326667   \n",
       "std                             3234.096890   \n",
       "min                             9028.000000   \n",
       "25%                            21617.250000   \n",
       "50%                            23413.500000   \n",
       "75%                            25156.500000   \n",
       "max                            31648.000000   \n",
       "\n",
       "       LabourForceStatus_Employed_away_from_work  \\\n",
       "count                                  150.00000   \n",
       "mean                                  3786.08000   \n",
       "std                                    598.22391   \n",
       "min                                   2481.00000   \n",
       "25%                                   3458.00000   \n",
       "50%                                   3776.50000   \n",
       "75%                                   4027.00000   \n",
       "max                                   6326.00000   \n",
       "\n",
       "       LabourForceStatus_Unemployed_looking_for_FT  \\\n",
       "count                                   150.000000   \n",
       "mean                                   2966.793333   \n",
       "std                                     900.794387   \n",
       "min                                    1236.000000   \n",
       "25%                                    2285.500000   \n",
       "50%                                    2866.500000   \n",
       "75%                                    3559.250000   \n",
       "max                                    5466.000000   \n",
       "\n",
       "       LabourForceStatus_Unemployed_looking_for_PT  \\\n",
       "count                                   150.000000   \n",
       "mean                                   2259.693333   \n",
       "std                                     703.646065   \n",
       "min                                    1078.000000   \n",
       "25%                                    1785.750000   \n",
       "50%                                    2178.000000   \n",
       "75%                                    2689.250000   \n",
       "max                                    6210.000000   \n",
       "\n",
       "       LabourForceStatus_Not_in_the_labour_force  \\\n",
       "count                                 150.000000   \n",
       "mean                                41876.800000   \n",
       "std                                  6776.182349   \n",
       "min                                 17769.000000   \n",
       "25%                                 36921.250000   \n",
       "50%                                 41822.000000   \n",
       "75%                                 46639.750000   \n",
       "max                                 57333.000000   \n",
       "\n",
       "       LabourForceStatus_Not_stated  LabourForceStatus_Not_applicable  \n",
       "count                    150.000000                        150.000000  \n",
       "mean                    8383.793333                      29075.166667  \n",
       "std                     2773.322429                       6115.756937  \n",
       "min                     3515.000000                      13707.000000  \n",
       "25%                     6513.000000                      25187.250000  \n",
       "50%                     8164.500000                      27823.500000  \n",
       "75%                     9668.000000                      31847.750000  \n",
       "max                    23193.000000                      56553.000000  \n",
       "\n",
       "[8 rows x 107 columns]"
      ]
     },
     "execution_count": 9,
     "metadata": {},
     "output_type": "execute_result"
    }
   ],
   "source": [
    "census.describe()"
   ]
  },
  {
   "cell_type": "markdown",
   "metadata": {},
   "source": [
    "**Ideally, values across each group (i.e Age, Gender, Marital Status, etc) should sum up to the value in Population column. Let's look at the first row and check if there are any errors.**"
   ]
  },
  {
   "cell_type": "code",
   "execution_count": 10,
   "metadata": {},
   "outputs": [
    {
     "data": {
      "text/html": [
       "<div>\n",
       "<style scoped>\n",
       "    .dataframe tbody tr th:only-of-type {\n",
       "        vertical-align: middle;\n",
       "    }\n",
       "\n",
       "    .dataframe tbody tr th {\n",
       "        vertical-align: top;\n",
       "    }\n",
       "\n",
       "    .dataframe thead th {\n",
       "        text-align: right;\n",
       "    }\n",
       "</style>\n",
       "<table border=\"1\" class=\"dataframe\">\n",
       "  <thead>\n",
       "    <tr style=\"text-align: right;\">\n",
       "      <th></th>\n",
       "      <th>CED</th>\n",
       "      <th>Family1Child</th>\n",
       "      <th>Family2Children</th>\n",
       "      <th>Family3Children</th>\n",
       "      <th>Family4Children</th>\n",
       "      <th>Family5Children</th>\n",
       "      <th>Family6PlusChildren</th>\n",
       "      <th>FamilyChildrenNA</th>\n",
       "      <th>HHInc_Negative</th>\n",
       "      <th>HHInc_Nil</th>\n",
       "      <th>...</th>\n",
       "      <th>Ed_Not_stated</th>\n",
       "      <th>Ed_Not_applicable</th>\n",
       "      <th>LabourForceStatus_Employed_worked_FT</th>\n",
       "      <th>LabourForceStatus_Employed_worked_PT</th>\n",
       "      <th>LabourForceStatus_Employed_away_from_work</th>\n",
       "      <th>LabourForceStatus_Unemployed_looking_for_FT</th>\n",
       "      <th>LabourForceStatus_Unemployed_looking_for_PT</th>\n",
       "      <th>LabourForceStatus_Not_in_the_labour_force</th>\n",
       "      <th>LabourForceStatus_Not_stated</th>\n",
       "      <th>LabourForceStatus_Not_applicable</th>\n",
       "    </tr>\n",
       "  </thead>\n",
       "  <tbody>\n",
       "    <tr>\n",
       "      <th>0</th>\n",
       "      <td>Banks</td>\n",
       "      <td>11868</td>\n",
       "      <td>11201</td>\n",
       "      <td>3593</td>\n",
       "      <td>843</td>\n",
       "      <td>180</td>\n",
       "      <td>73</td>\n",
       "      <td>33478</td>\n",
       "      <td>127</td>\n",
       "      <td>831</td>\n",
       "      <td>...</td>\n",
       "      <td>9559</td>\n",
       "      <td>27413</td>\n",
       "      <td>46085</td>\n",
       "      <td>23083</td>\n",
       "      <td>3557</td>\n",
       "      <td>2418</td>\n",
       "      <td>2403</td>\n",
       "      <td>45079</td>\n",
       "      <td>5770</td>\n",
       "      <td>27413</td>\n",
       "    </tr>\n",
       "  </tbody>\n",
       "</table>\n",
       "<p>1 rows × 108 columns</p>\n",
       "</div>"
      ],
      "text/plain": [
       "     CED  Family1Child  Family2Children  Family3Children  Family4Children  \\\n",
       "0  Banks         11868            11201             3593              843   \n",
       "\n",
       "   Family5Children  Family6PlusChildren  FamilyChildrenNA  HHInc_Negative  \\\n",
       "0              180                   73             33478             127   \n",
       "\n",
       "   HHInc_Nil  ...  Ed_Not_stated  Ed_Not_applicable  \\\n",
       "0        831  ...           9559              27413   \n",
       "\n",
       "   LabourForceStatus_Employed_worked_FT  LabourForceStatus_Employed_worked_PT  \\\n",
       "0                                 46085                                 23083   \n",
       "\n",
       "   LabourForceStatus_Employed_away_from_work  \\\n",
       "0                                       3557   \n",
       "\n",
       "   LabourForceStatus_Unemployed_looking_for_FT  \\\n",
       "0                                         2418   \n",
       "\n",
       "   LabourForceStatus_Unemployed_looking_for_PT  \\\n",
       "0                                         2403   \n",
       "\n",
       "   LabourForceStatus_Not_in_the_labour_force  LabourForceStatus_Not_stated  \\\n",
       "0                                      45079                          5770   \n",
       "\n",
       "   LabourForceStatus_Not_applicable  \n",
       "0                             27413  \n",
       "\n",
       "[1 rows x 108 columns]"
      ]
     },
     "execution_count": 10,
     "metadata": {},
     "output_type": "execute_result"
    }
   ],
   "source": [
    "banks = census.iloc[[0]]\n",
    "banks"
   ]
  },
  {
   "cell_type": "code",
   "execution_count": 11,
   "metadata": {
    "scrolled": false
   },
   "outputs": [
    {
     "name": "stdout",
     "output_type": "stream",
     "text": [
      "Age_0_4 [9444]\n",
      "Age_5_9 [9250]\n",
      "Age_10_14 [8722]\n",
      "Age_15_19 [9422]\n",
      "Age_20_24 [10688]\n",
      "Age_25_29 [11555]\n",
      "Age_30_34 [11461]\n",
      "Age_35_39 [10286]\n",
      "Age_40_44 [10387]\n",
      "Age_45_49 [10195]\n",
      "Age_50_54 [10602]\n",
      "Age_55_59 [10141]\n",
      "Age_60_64 [8551]\n",
      "Age_65_69 [7236]\n",
      "Age_70_74 [5457]\n",
      "Age_75_79 [4481]\n",
      "Age_80_84 [3668]\n",
      "Age_85_89 [2636]\n",
      "Age_90_94 [1311]\n",
      "Age_95_99 [285]\n",
      "Age_100_Plus [29]\n"
     ]
    }
   ],
   "source": [
    "# Columns containing age\n",
    "age_cols = [col for col in banks.columns if 'Age' in col]\n",
    "for age, num in zip(age_cols, banks[age_cols].values.T):\n",
    "    print(age, num)"
   ]
  },
  {
   "cell_type": "code",
   "execution_count": 12,
   "metadata": {},
   "outputs": [
    {
     "data": {
      "text/plain": [
       "0    155807\n",
       "dtype: int64"
      ]
     },
     "execution_count": 12,
     "metadata": {},
     "output_type": "execute_result"
    }
   ],
   "source": [
    "# Sum of all columns containing age\n",
    "banks[age_cols].sum(axis=1)"
   ]
  },
  {
   "cell_type": "code",
   "execution_count": 13,
   "metadata": {},
   "outputs": [
    {
     "name": "stdout",
     "output_type": "stream",
     "text": [
      "Total population in Banks is 155804.\n"
     ]
    }
   ],
   "source": [
    "print(\"Total population in {} is {}.\".format(banks.loc[0, 'CED'], banks.loc[0, 'Population']))"
   ]
  },
  {
   "cell_type": "code",
   "execution_count": 14,
   "metadata": {},
   "outputs": [
    {
     "name": "stdout",
     "output_type": "stream",
     "text": [
      "The difference between the totals is -3\n"
     ]
    }
   ],
   "source": [
    "diff = (banks.Population - banks[age_cols].sum(axis=1)).values\n",
    "print(\"The difference between the totals is\", int(diff))"
   ]
  },
  {
   "cell_type": "markdown",
   "metadata": {},
   "source": [
    "** Due to unknown reason, we have three additional individuals. Let's subtract this number from one of the columns so that the sum across the Age columns equals the value in the Population column.**"
   ]
  },
  {
   "cell_type": "code",
   "execution_count": 15,
   "metadata": {},
   "outputs": [
    {
     "name": "stderr",
     "output_type": "stream",
     "text": [
      "C:\\Users\\Yoshi\\Anaconda3\\lib\\site-packages\\pandas\\core\\indexing.py:543: SettingWithCopyWarning: \n",
      "A value is trying to be set on a copy of a slice from a DataFrame.\n",
      "Try using .loc[row_indexer,col_indexer] = value instead\n",
      "\n",
      "See the caveats in the documentation: http://pandas.pydata.org/pandas-docs/stable/indexing.html#indexing-view-versus-copy\n",
      "  self.obj[item] = s\n"
     ]
    }
   ],
   "source": [
    "majority = banks[age_cols].values.max()\n",
    "for col in age_cols:\n",
    "    if banks.loc[0, col] == majority:\n",
    "        banks.loc[0, col] = banks.loc[0, col] + diff"
   ]
  },
  {
   "cell_type": "code",
   "execution_count": 16,
   "metadata": {},
   "outputs": [
    {
     "data": {
      "text/plain": [
       "11552"
      ]
     },
     "execution_count": 16,
     "metadata": {},
     "output_type": "execute_result"
    }
   ],
   "source": [
    "banks.loc[0,'Age_25_29']"
   ]
  },
  {
   "cell_type": "markdown",
   "metadata": {},
   "source": [
    "###### Correct values in the entire dataset"
   ]
  },
  {
   "cell_type": "code",
   "execution_count": 17,
   "metadata": {},
   "outputs": [],
   "source": [
    "def correct_values(df):\n",
    "    age_cols = [col for col in df.columns if 'Age' in col]\n",
    "    marriage_cols = ['NeverMarried', 'Widowed', 'Divorced', 'Separated', 'Married', 'MaritalStatusNA']\n",
    "    gender_cols = ['Male', 'Female']\n",
    "    ed_cols = [col for col in df.columns if 'Ed' in col]\n",
    "    empl_cols = [col for col in df.columns if 'LabourForceStatus' in col]\n",
    "\n",
    "    columns = [age_cols, marriage_cols, gender_cols, ed_cols, empl_cols]\n",
    "    for i in range(len(columns)):\n",
    "        diff = df.Population - df[columns[i]].sum(axis=1)\n",
    "        majority = df[columns[i]].max(axis=1)\n",
    "        for col in columns[i]:\n",
    "            df[col] += diff * (df[col] == majority)\n",
    "    return df"
   ]
  },
  {
   "cell_type": "code",
   "execution_count": 18,
   "metadata": {},
   "outputs": [
    {
     "data": {
      "text/plain": [
       "0"
      ]
     },
     "execution_count": 18,
     "metadata": {},
     "output_type": "execute_result"
    }
   ],
   "source": [
    "correct_values(census)\n",
    "\n",
    "# Check if the totals are equal now.\n",
    "(census[age_cols].sum(axis=1) != census.Population).sum()"
   ]
  },
  {
   "cell_type": "code",
   "execution_count": 19,
   "metadata": {},
   "outputs": [
    {
     "name": "stdout",
     "output_type": "stream",
     "text": [
      "(107, 107)\n"
     ]
    },
    {
     "data": {
      "image/png": "[encoded data removed]",
      "text/plain": [
       "<Figure size 1080x864 with 2 Axes>"
      ]
     },
     "metadata": {},
     "output_type": "display_data"
    }
   ],
   "source": [
    "correlations = census.corr()\n",
    "print(correlations.shape)\n",
    "\n",
    "sns.set(rc={'figure.figsize':(15, 12)})\n",
    "\n",
    "sns.heatmap(correlations, \n",
    "            vmin=-1, vmax=1, \n",
    "            cmap=sns.color_palette(\"RdBu_r\", 100), \n",
    "            xticklabels=False, yticklabels=False);"
   ]
  },
  {
   "cell_type": "code",
   "execution_count": 20,
   "metadata": {},
   "outputs": [
    {
     "data": {
      "image/png": "[encoded data removed]",
      "text/plain": [
       "<Figure size 1080x864 with 2 Axes>"
      ]
     },
     "metadata": {},
     "output_type": "display_data"
    }
   ],
   "source": [
    "mask = np.zeros_like(correlations)\n",
    "mask[abs(correlations) < 0.9] = 1\n",
    "\n",
    "sns.heatmap(correlations,\n",
    "            vmin=-1, vmax=1, mask=mask,\n",
    "            cmap=sns.color_palette(\"RdBu_r\", 100),\n",
    "            xticklabels=False, yticklabels=False);"
   ]
  },
  {
   "cell_type": "markdown",
   "metadata": {},
   "source": [
    "### Results dataset"
   ]
  },
  {
   "cell_type": "code",
   "execution_count": 21,
   "metadata": {},
   "outputs": [
    {
     "data": {
      "text/plain": [
       "int64     54\n",
       "object     3\n",
       "dtype: int64"
      ]
     },
     "execution_count": 21,
     "metadata": {},
     "output_type": "execute_result"
    }
   ],
   "source": [
    "results.dtypes.value_counts()"
   ]
  },
  {
   "cell_type": "code",
   "execution_count": 22,
   "metadata": {},
   "outputs": [
    {
     "data": {
      "text/plain": [
       "CED             object\n",
       "DivisionID       int64\n",
       "State           object\n",
       "Enrolment        int64\n",
       "Turnout          int64\n",
       "WinningParty    object\n",
       "ALP              int64\n",
       "LP               int64\n",
       "LNP              int64\n",
       "NP               int64\n",
       "dtype: object"
      ]
     },
     "execution_count": 22,
     "metadata": {},
     "output_type": "execute_result"
    }
   ],
   "source": [
    "results.dtypes.head(10)"
   ]
  },
  {
   "cell_type": "code",
   "execution_count": 23,
   "metadata": {
    "scrolled": true
   },
   "outputs": [
    {
     "data": {
      "text/plain": [
       "['CED',\n",
       " 'DivisionID',\n",
       " 'State',\n",
       " 'Enrolment',\n",
       " 'Turnout',\n",
       " 'WinningParty',\n",
       " 'ALP',\n",
       " 'LP',\n",
       " 'LNP',\n",
       " 'NP',\n",
       " 'GRN',\n",
       " 'IND',\n",
       " 'AAPP',\n",
       " 'ADVP',\n",
       " 'AEQ',\n",
       " 'AFN',\n",
       " 'AJP',\n",
       " 'ALA',\n",
       " 'ARF',\n",
       " 'ARTS',\n",
       " 'ASP',\n",
       " 'ASXP',\n",
       " 'AUC',\n",
       " 'AUP',\n",
       " 'BTA',\n",
       " 'CDP',\n",
       " 'CEC',\n",
       " 'CLP',\n",
       " 'CM',\n",
       " 'CRNT',\n",
       " 'CYA',\n",
       " 'CYC',\n",
       " 'DHJP',\n",
       " 'DLP',\n",
       " 'DRF',\n",
       " 'FFP',\n",
       " 'FUT',\n",
       " 'GLT',\n",
       " 'HMP',\n",
       " 'KAP',\n",
       " 'LDP',\n",
       " 'MAP',\n",
       " 'NCP',\n",
       " 'None',\n",
       " 'ODR',\n",
       " 'ON',\n",
       " 'PIR',\n",
       " 'PUP',\n",
       " 'REP',\n",
       " 'RUA',\n",
       " 'SAL',\n",
       " 'SEP',\n",
       " 'SMK',\n",
       " 'SOL',\n",
       " 'SPP',\n",
       " 'VEP',\n",
       " 'XEN']"
      ]
     },
     "execution_count": 23,
     "metadata": {},
     "output_type": "execute_result"
    }
   ],
   "source": [
    "list(results.columns)"
   ]
  },
  {
   "cell_type": "code",
   "execution_count": null,
   "metadata": {},
   "outputs": [],
   "source": []
  },
  {
   "cell_type": "markdown",
   "metadata": {},
   "source": [
    "**The dataset contains the following information about each electorate:**\n",
    "- Name of the Commonwealth Electorate Division (CED)\n",
    "- A unique ID\n",
    "- State\n",
    "- Enrolment and turnout at the election\n",
    "- Winning party\n",
    "- The rest 51 columns contain numbers of votes received by each party"
   ]
  },
  {
   "cell_type": "markdown",
   "metadata": {},
   "source": [
    "###### Are there any missing values?"
   ]
  },
  {
   "cell_type": "code",
   "execution_count": 24,
   "metadata": {},
   "outputs": [
    {
     "data": {
      "text/plain": [
       "0"
      ]
     },
     "execution_count": 24,
     "metadata": {},
     "output_type": "execute_result"
    }
   ],
   "source": [
    "results.isnull().sum().sum()"
   ]
  },
  {
   "cell_type": "markdown",
   "metadata": {},
   "source": [
    "###### Summary statistics"
   ]
  },
  {
   "cell_type": "code",
   "execution_count": 25,
   "metadata": {},
   "outputs": [
    {
     "data": {
      "text/html": [
       "<div>\n",
       "<style scoped>\n",
       "    .dataframe tbody tr th:only-of-type {\n",
       "        vertical-align: middle;\n",
       "    }\n",
       "\n",
       "    .dataframe tbody tr th {\n",
       "        vertical-align: top;\n",
       "    }\n",
       "\n",
       "    .dataframe thead th {\n",
       "        text-align: right;\n",
       "    }\n",
       "</style>\n",
       "<table border=\"1\" class=\"dataframe\">\n",
       "  <thead>\n",
       "    <tr style=\"text-align: right;\">\n",
       "      <th></th>\n",
       "      <th>CED</th>\n",
       "      <th>DivisionID</th>\n",
       "      <th>State</th>\n",
       "      <th>Enrolment</th>\n",
       "      <th>Turnout</th>\n",
       "      <th>WinningParty</th>\n",
       "      <th>ALP</th>\n",
       "      <th>LP</th>\n",
       "      <th>LNP</th>\n",
       "      <th>NP</th>\n",
       "      <th>...</th>\n",
       "      <th>PUP</th>\n",
       "      <th>REP</th>\n",
       "      <th>RUA</th>\n",
       "      <th>SAL</th>\n",
       "      <th>SEP</th>\n",
       "      <th>SMK</th>\n",
       "      <th>SOL</th>\n",
       "      <th>SPP</th>\n",
       "      <th>VEP</th>\n",
       "      <th>XEN</th>\n",
       "    </tr>\n",
       "  </thead>\n",
       "  <tbody>\n",
       "    <tr>\n",
       "      <th>count</th>\n",
       "      <td>150</td>\n",
       "      <td>150.000000</td>\n",
       "      <td>150</td>\n",
       "      <td>150.000000</td>\n",
       "      <td>150.000000</td>\n",
       "      <td>150</td>\n",
       "      <td>150.000000</td>\n",
       "      <td>150.000000</td>\n",
       "      <td>150.000000</td>\n",
       "      <td>150.000000</td>\n",
       "      <td>...</td>\n",
       "      <td>150.0</td>\n",
       "      <td>150.0</td>\n",
       "      <td>150.0</td>\n",
       "      <td>150.0</td>\n",
       "      <td>150.0</td>\n",
       "      <td>150.0</td>\n",
       "      <td>150.0</td>\n",
       "      <td>150.0</td>\n",
       "      <td>150.0</td>\n",
       "      <td>150.000000</td>\n",
       "    </tr>\n",
       "    <tr>\n",
       "      <th>unique</th>\n",
       "      <td>150</td>\n",
       "      <td>NaN</td>\n",
       "      <td>8</td>\n",
       "      <td>NaN</td>\n",
       "      <td>NaN</td>\n",
       "      <td>8</td>\n",
       "      <td>NaN</td>\n",
       "      <td>NaN</td>\n",
       "      <td>NaN</td>\n",
       "      <td>NaN</td>\n",
       "      <td>...</td>\n",
       "      <td>NaN</td>\n",
       "      <td>NaN</td>\n",
       "      <td>NaN</td>\n",
       "      <td>NaN</td>\n",
       "      <td>NaN</td>\n",
       "      <td>NaN</td>\n",
       "      <td>NaN</td>\n",
       "      <td>NaN</td>\n",
       "      <td>NaN</td>\n",
       "      <td>NaN</td>\n",
       "    </tr>\n",
       "    <tr>\n",
       "      <th>top</th>\n",
       "      <td>Fisher</td>\n",
       "      <td>NaN</td>\n",
       "      <td>NSW</td>\n",
       "      <td>NaN</td>\n",
       "      <td>NaN</td>\n",
       "      <td>ALP</td>\n",
       "      <td>NaN</td>\n",
       "      <td>NaN</td>\n",
       "      <td>NaN</td>\n",
       "      <td>NaN</td>\n",
       "      <td>...</td>\n",
       "      <td>NaN</td>\n",
       "      <td>NaN</td>\n",
       "      <td>NaN</td>\n",
       "      <td>NaN</td>\n",
       "      <td>NaN</td>\n",
       "      <td>NaN</td>\n",
       "      <td>NaN</td>\n",
       "      <td>NaN</td>\n",
       "      <td>NaN</td>\n",
       "      <td>NaN</td>\n",
       "    </tr>\n",
       "    <tr>\n",
       "      <th>freq</th>\n",
       "      <td>1</td>\n",
       "      <td>NaN</td>\n",
       "      <td>47</td>\n",
       "      <td>NaN</td>\n",
       "      <td>NaN</td>\n",
       "      <td>69</td>\n",
       "      <td>NaN</td>\n",
       "      <td>NaN</td>\n",
       "      <td>NaN</td>\n",
       "      <td>NaN</td>\n",
       "      <td>...</td>\n",
       "      <td>NaN</td>\n",
       "      <td>NaN</td>\n",
       "      <td>NaN</td>\n",
       "      <td>NaN</td>\n",
       "      <td>NaN</td>\n",
       "      <td>NaN</td>\n",
       "      <td>NaN</td>\n",
       "      <td>NaN</td>\n",
       "      <td>NaN</td>\n",
       "      <td>NaN</td>\n",
       "    </tr>\n",
       "    <tr>\n",
       "      <th>mean</th>\n",
       "      <td>NaN</td>\n",
       "      <td>188.820000</td>\n",
       "      <td>NaN</td>\n",
       "      <td>104477.006667</td>\n",
       "      <td>90274.006667</td>\n",
       "      <td>NaN</td>\n",
       "      <td>41404.713333</td>\n",
       "      <td>30008.333333</td>\n",
       "      <td>9520.360000</td>\n",
       "      <td>4468.680000</td>\n",
       "      <td>...</td>\n",
       "      <td>0.0</td>\n",
       "      <td>0.0</td>\n",
       "      <td>0.0</td>\n",
       "      <td>0.0</td>\n",
       "      <td>0.0</td>\n",
       "      <td>0.0</td>\n",
       "      <td>0.0</td>\n",
       "      <td>0.0</td>\n",
       "      <td>0.0</td>\n",
       "      <td>1146.326667</td>\n",
       "    </tr>\n",
       "    <tr>\n",
       "      <th>std</th>\n",
       "      <td>NaN</td>\n",
       "      <td>55.471992</td>\n",
       "      <td>NaN</td>\n",
       "      <td>10054.470041</td>\n",
       "      <td>9618.098112</td>\n",
       "      <td>NaN</td>\n",
       "      <td>16371.423529</td>\n",
       "      <td>22276.560686</td>\n",
       "      <td>19391.393947</td>\n",
       "      <td>15383.386693</td>\n",
       "      <td>...</td>\n",
       "      <td>0.0</td>\n",
       "      <td>0.0</td>\n",
       "      <td>0.0</td>\n",
       "      <td>0.0</td>\n",
       "      <td>0.0</td>\n",
       "      <td>0.0</td>\n",
       "      <td>0.0</td>\n",
       "      <td>0.0</td>\n",
       "      <td>0.0</td>\n",
       "      <td>7031.385276</td>\n",
       "    </tr>\n",
       "    <tr>\n",
       "      <th>min</th>\n",
       "      <td>NaN</td>\n",
       "      <td>101.000000</td>\n",
       "      <td>NaN</td>\n",
       "      <td>63131.000000</td>\n",
       "      <td>42875.000000</td>\n",
       "      <td>NaN</td>\n",
       "      <td>0.000000</td>\n",
       "      <td>0.000000</td>\n",
       "      <td>0.000000</td>\n",
       "      <td>0.000000</td>\n",
       "      <td>...</td>\n",
       "      <td>0.0</td>\n",
       "      <td>0.0</td>\n",
       "      <td>0.0</td>\n",
       "      <td>0.0</td>\n",
       "      <td>0.0</td>\n",
       "      <td>0.0</td>\n",
       "      <td>0.0</td>\n",
       "      <td>0.0</td>\n",
       "      <td>0.0</td>\n",
       "      <td>0.000000</td>\n",
       "    </tr>\n",
       "    <tr>\n",
       "      <th>25%</th>\n",
       "      <td>NaN</td>\n",
       "      <td>145.250000</td>\n",
       "      <td>NaN</td>\n",
       "      <td>100363.250000</td>\n",
       "      <td>86195.000000</td>\n",
       "      <td>NaN</td>\n",
       "      <td>34169.750000</td>\n",
       "      <td>0.000000</td>\n",
       "      <td>0.000000</td>\n",
       "      <td>0.000000</td>\n",
       "      <td>...</td>\n",
       "      <td>0.0</td>\n",
       "      <td>0.0</td>\n",
       "      <td>0.0</td>\n",
       "      <td>0.0</td>\n",
       "      <td>0.0</td>\n",
       "      <td>0.0</td>\n",
       "      <td>0.0</td>\n",
       "      <td>0.0</td>\n",
       "      <td>0.0</td>\n",
       "      <td>0.000000</td>\n",
       "    </tr>\n",
       "    <tr>\n",
       "      <th>50%</th>\n",
       "      <td>NaN</td>\n",
       "      <td>186.500000</td>\n",
       "      <td>NaN</td>\n",
       "      <td>104874.000000</td>\n",
       "      <td>90202.500000</td>\n",
       "      <td>NaN</td>\n",
       "      <td>42778.500000</td>\n",
       "      <td>37208.000000</td>\n",
       "      <td>0.000000</td>\n",
       "      <td>0.000000</td>\n",
       "      <td>...</td>\n",
       "      <td>0.0</td>\n",
       "      <td>0.0</td>\n",
       "      <td>0.0</td>\n",
       "      <td>0.0</td>\n",
       "      <td>0.0</td>\n",
       "      <td>0.0</td>\n",
       "      <td>0.0</td>\n",
       "      <td>0.0</td>\n",
       "      <td>0.0</td>\n",
       "      <td>0.000000</td>\n",
       "    </tr>\n",
       "    <tr>\n",
       "      <th>75%</th>\n",
       "      <td>NaN</td>\n",
       "      <td>225.750000</td>\n",
       "      <td>NaN</td>\n",
       "      <td>109182.000000</td>\n",
       "      <td>94717.750000</td>\n",
       "      <td>NaN</td>\n",
       "      <td>51915.250000</td>\n",
       "      <td>47700.750000</td>\n",
       "      <td>0.000000</td>\n",
       "      <td>0.000000</td>\n",
       "      <td>...</td>\n",
       "      <td>0.0</td>\n",
       "      <td>0.0</td>\n",
       "      <td>0.0</td>\n",
       "      <td>0.0</td>\n",
       "      <td>0.0</td>\n",
       "      <td>0.0</td>\n",
       "      <td>0.0</td>\n",
       "      <td>0.0</td>\n",
       "      <td>0.0</td>\n",
       "      <td>0.000000</td>\n",
       "    </tr>\n",
       "    <tr>\n",
       "      <th>max</th>\n",
       "      <td>NaN</td>\n",
       "      <td>317.000000</td>\n",
       "      <td>NaN</td>\n",
       "      <td>143231.000000</td>\n",
       "      <td>128720.000000</td>\n",
       "      <td>NaN</td>\n",
       "      <td>79242.000000</td>\n",
       "      <td>68114.000000</td>\n",
       "      <td>59589.000000</td>\n",
       "      <td>65719.000000</td>\n",
       "      <td>...</td>\n",
       "      <td>0.0</td>\n",
       "      <td>0.0</td>\n",
       "      <td>0.0</td>\n",
       "      <td>0.0</td>\n",
       "      <td>0.0</td>\n",
       "      <td>0.0</td>\n",
       "      <td>0.0</td>\n",
       "      <td>0.0</td>\n",
       "      <td>0.0</td>\n",
       "      <td>52283.000000</td>\n",
       "    </tr>\n",
       "  </tbody>\n",
       "</table>\n",
       "<p>11 rows × 57 columns</p>\n",
       "</div>"
      ],
      "text/plain": [
       "           CED  DivisionID State      Enrolment        Turnout WinningParty  \\\n",
       "count      150  150.000000   150     150.000000     150.000000          150   \n",
       "unique     150         NaN     8            NaN            NaN            8   \n",
       "top     Fisher         NaN   NSW            NaN            NaN          ALP   \n",
       "freq         1         NaN    47            NaN            NaN           69   \n",
       "mean       NaN  188.820000   NaN  104477.006667   90274.006667          NaN   \n",
       "std        NaN   55.471992   NaN   10054.470041    9618.098112          NaN   \n",
       "min        NaN  101.000000   NaN   63131.000000   42875.000000          NaN   \n",
       "25%        NaN  145.250000   NaN  100363.250000   86195.000000          NaN   \n",
       "50%        NaN  186.500000   NaN  104874.000000   90202.500000          NaN   \n",
       "75%        NaN  225.750000   NaN  109182.000000   94717.750000          NaN   \n",
       "max        NaN  317.000000   NaN  143231.000000  128720.000000          NaN   \n",
       "\n",
       "                 ALP            LP           LNP            NP  ...    PUP  \\\n",
       "count     150.000000    150.000000    150.000000    150.000000  ...  150.0   \n",
       "unique           NaN           NaN           NaN           NaN  ...    NaN   \n",
       "top              NaN           NaN           NaN           NaN  ...    NaN   \n",
       "freq             NaN           NaN           NaN           NaN  ...    NaN   \n",
       "mean    41404.713333  30008.333333   9520.360000   4468.680000  ...    0.0   \n",
       "std     16371.423529  22276.560686  19391.393947  15383.386693  ...    0.0   \n",
       "min         0.000000      0.000000      0.000000      0.000000  ...    0.0   \n",
       "25%     34169.750000      0.000000      0.000000      0.000000  ...    0.0   \n",
       "50%     42778.500000  37208.000000      0.000000      0.000000  ...    0.0   \n",
       "75%     51915.250000  47700.750000      0.000000      0.000000  ...    0.0   \n",
       "max     79242.000000  68114.000000  59589.000000  65719.000000  ...    0.0   \n",
       "\n",
       "          REP    RUA    SAL    SEP    SMK    SOL    SPP    VEP           XEN  \n",
       "count   150.0  150.0  150.0  150.0  150.0  150.0  150.0  150.0    150.000000  \n",
       "unique    NaN    NaN    NaN    NaN    NaN    NaN    NaN    NaN           NaN  \n",
       "top       NaN    NaN    NaN    NaN    NaN    NaN    NaN    NaN           NaN  \n",
       "freq      NaN    NaN    NaN    NaN    NaN    NaN    NaN    NaN           NaN  \n",
       "mean      0.0    0.0    0.0    0.0    0.0    0.0    0.0    0.0   1146.326667  \n",
       "std       0.0    0.0    0.0    0.0    0.0    0.0    0.0    0.0   7031.385276  \n",
       "min       0.0    0.0    0.0    0.0    0.0    0.0    0.0    0.0      0.000000  \n",
       "25%       0.0    0.0    0.0    0.0    0.0    0.0    0.0    0.0      0.000000  \n",
       "50%       0.0    0.0    0.0    0.0    0.0    0.0    0.0    0.0      0.000000  \n",
       "75%       0.0    0.0    0.0    0.0    0.0    0.0    0.0    0.0      0.000000  \n",
       "max       0.0    0.0    0.0    0.0    0.0    0.0    0.0    0.0  52283.000000  \n",
       "\n",
       "[11 rows x 57 columns]"
      ]
     },
     "execution_count": 25,
     "metadata": {},
     "output_type": "execute_result"
    }
   ],
   "source": [
    "results.describe(include='all')"
   ]
  },
  {
   "cell_type": "markdown",
   "metadata": {},
   "source": [
    "###### Explore distributions"
   ]
  },
  {
   "cell_type": "code",
   "execution_count": 26,
   "metadata": {},
   "outputs": [
    {
     "data": {
      "image/png": "[encoded data removed]",
      "text/plain": [
       "<Figure size 1080x360 with 1 Axes>"
      ]
     },
     "metadata": {},
     "output_type": "display_data"
    }
   ],
   "source": [
    "plt.rcParams['figure.figsize'] = (15, 5)\n",
    "results.State.value_counts().plot(kind='bar');"
   ]
  },
  {
   "cell_type": "code",
   "execution_count": 27,
   "metadata": {},
   "outputs": [
    {
     "data": {
      "image/png": "[encoded data removed]",
      "text/plain": [
       "<Figure size 1080x360 with 1 Axes>"
      ]
     },
     "metadata": {},
     "output_type": "display_data"
    }
   ],
   "source": [
    "results.WinningParty.value_counts().plot(kind='bar');"
   ]
  },
  {
   "cell_type": "code",
   "execution_count": 28,
   "metadata": {},
   "outputs": [
    {
     "data": {
      "image/png": "[encoded data removed]",
      "text/plain": [
       "<Figure size 1080x360 with 1 Axes>"
      ]
     },
     "metadata": {},
     "output_type": "display_data"
    }
   ],
   "source": [
    "results.Enrolment.hist(bins=25);"
   ]
  },
  {
   "cell_type": "code",
   "execution_count": 29,
   "metadata": {},
   "outputs": [
    {
     "data": {
      "image/png": "[encoded data removed]",
      "text/plain": [
       "<Figure size 1080x360 with 9 Axes>"
      ]
     },
     "metadata": {},
     "output_type": "display_data"
    }
   ],
   "source": [
    "results.hist(column='Enrolment', by='State', sharex=True, sharey=True, layout=(3, 3));"
   ]
  },
  {
   "cell_type": "code",
   "execution_count": 30,
   "metadata": {},
   "outputs": [
    {
     "data": {
      "image/png": "[encoded data removed]",
      "text/plain": [
       "<Figure size 1080x360 with 1 Axes>"
      ]
     },
     "metadata": {},
     "output_type": "display_data"
    }
   ],
   "source": [
    "results.Turnout.hist(bins=25);"
   ]
  },
  {
   "cell_type": "markdown",
   "metadata": {},
   "source": [
    "###### Are there any outliers and should they be excluded?"
   ]
  },
  {
   "cell_type": "code",
   "execution_count": 31,
   "metadata": {},
   "outputs": [
    {
     "data": {
      "image/png": "[encoded data removed]",
      "text/plain": [
       "<Figure size 1080x360 with 1 Axes>"
      ]
     },
     "metadata": {},
     "output_type": "display_data"
    }
   ],
   "source": [
    "results[['Enrolment','Turnout']].boxplot();"
   ]
  },
  {
   "cell_type": "markdown",
   "metadata": {},
   "source": [
    "###### Create a combined dataset"
   ]
  },
  {
   "cell_type": "code",
   "execution_count": 32,
   "metadata": {},
   "outputs": [
    {
     "name": "stdout",
     "output_type": "stream",
     "text": [
      "(150, 164)\n"
     ]
    },
    {
     "data": {
      "text/html": [
       "<div>\n",
       "<style scoped>\n",
       "    .dataframe tbody tr th:only-of-type {\n",
       "        vertical-align: middle;\n",
       "    }\n",
       "\n",
       "    .dataframe tbody tr th {\n",
       "        vertical-align: top;\n",
       "    }\n",
       "\n",
       "    .dataframe thead th {\n",
       "        text-align: right;\n",
       "    }\n",
       "</style>\n",
       "<table border=\"1\" class=\"dataframe\">\n",
       "  <thead>\n",
       "    <tr style=\"text-align: right;\">\n",
       "      <th></th>\n",
       "      <th>CED</th>\n",
       "      <th>Family1Child</th>\n",
       "      <th>Family2Children</th>\n",
       "      <th>Family3Children</th>\n",
       "      <th>Family4Children</th>\n",
       "      <th>Family5Children</th>\n",
       "      <th>Family6PlusChildren</th>\n",
       "      <th>FamilyChildrenNA</th>\n",
       "      <th>HHInc_Negative</th>\n",
       "      <th>HHInc_Nil</th>\n",
       "      <th>...</th>\n",
       "      <th>PUP</th>\n",
       "      <th>REP</th>\n",
       "      <th>RUA</th>\n",
       "      <th>SAL</th>\n",
       "      <th>SEP</th>\n",
       "      <th>SMK</th>\n",
       "      <th>SOL</th>\n",
       "      <th>SPP</th>\n",
       "      <th>VEP</th>\n",
       "      <th>XEN</th>\n",
       "    </tr>\n",
       "  </thead>\n",
       "  <tbody>\n",
       "    <tr>\n",
       "      <th>0</th>\n",
       "      <td>Banks</td>\n",
       "      <td>11868</td>\n",
       "      <td>11201</td>\n",
       "      <td>3593</td>\n",
       "      <td>843</td>\n",
       "      <td>180</td>\n",
       "      <td>73</td>\n",
       "      <td>33478</td>\n",
       "      <td>127</td>\n",
       "      <td>831</td>\n",
       "      <td>...</td>\n",
       "      <td>0</td>\n",
       "      <td>0</td>\n",
       "      <td>0</td>\n",
       "      <td>0</td>\n",
       "      <td>0</td>\n",
       "      <td>0</td>\n",
       "      <td>0</td>\n",
       "      <td>0</td>\n",
       "      <td>0</td>\n",
       "      <td>0</td>\n",
       "    </tr>\n",
       "    <tr>\n",
       "      <th>1</th>\n",
       "      <td>Barton</td>\n",
       "      <td>13019</td>\n",
       "      <td>10308</td>\n",
       "      <td>3238</td>\n",
       "      <td>871</td>\n",
       "      <td>177</td>\n",
       "      <td>69</td>\n",
       "      <td>41666</td>\n",
       "      <td>168</td>\n",
       "      <td>1347</td>\n",
       "      <td>...</td>\n",
       "      <td>0</td>\n",
       "      <td>0</td>\n",
       "      <td>0</td>\n",
       "      <td>0</td>\n",
       "      <td>0</td>\n",
       "      <td>0</td>\n",
       "      <td>0</td>\n",
       "      <td>0</td>\n",
       "      <td>0</td>\n",
       "      <td>0</td>\n",
       "    </tr>\n",
       "    <tr>\n",
       "      <th>2</th>\n",
       "      <td>Bennelong</td>\n",
       "      <td>12778</td>\n",
       "      <td>11897</td>\n",
       "      <td>3284</td>\n",
       "      <td>571</td>\n",
       "      <td>81</td>\n",
       "      <td>19</td>\n",
       "      <td>38867</td>\n",
       "      <td>163</td>\n",
       "      <td>1461</td>\n",
       "      <td>...</td>\n",
       "      <td>0</td>\n",
       "      <td>0</td>\n",
       "      <td>0</td>\n",
       "      <td>0</td>\n",
       "      <td>0</td>\n",
       "      <td>0</td>\n",
       "      <td>0</td>\n",
       "      <td>0</td>\n",
       "      <td>0</td>\n",
       "      <td>0</td>\n",
       "    </tr>\n",
       "    <tr>\n",
       "      <th>3</th>\n",
       "      <td>Berowra</td>\n",
       "      <td>9604</td>\n",
       "      <td>12304</td>\n",
       "      <td>4227</td>\n",
       "      <td>946</td>\n",
       "      <td>156</td>\n",
       "      <td>68</td>\n",
       "      <td>24731</td>\n",
       "      <td>63</td>\n",
       "      <td>418</td>\n",
       "      <td>...</td>\n",
       "      <td>0</td>\n",
       "      <td>0</td>\n",
       "      <td>0</td>\n",
       "      <td>0</td>\n",
       "      <td>0</td>\n",
       "      <td>0</td>\n",
       "      <td>0</td>\n",
       "      <td>0</td>\n",
       "      <td>0</td>\n",
       "      <td>0</td>\n",
       "    </tr>\n",
       "    <tr>\n",
       "      <th>4</th>\n",
       "      <td>Blaxland</td>\n",
       "      <td>11650</td>\n",
       "      <td>10429</td>\n",
       "      <td>5160</td>\n",
       "      <td>2172</td>\n",
       "      <td>693</td>\n",
       "      <td>341</td>\n",
       "      <td>30545</td>\n",
       "      <td>209</td>\n",
       "      <td>1017</td>\n",
       "      <td>...</td>\n",
       "      <td>0</td>\n",
       "      <td>0</td>\n",
       "      <td>0</td>\n",
       "      <td>0</td>\n",
       "      <td>0</td>\n",
       "      <td>0</td>\n",
       "      <td>0</td>\n",
       "      <td>0</td>\n",
       "      <td>0</td>\n",
       "      <td>0</td>\n",
       "    </tr>\n",
       "  </tbody>\n",
       "</table>\n",
       "<p>5 rows × 164 columns</p>\n",
       "</div>"
      ],
      "text/plain": [
       "         CED  Family1Child  Family2Children  Family3Children  Family4Children  \\\n",
       "0      Banks         11868            11201             3593              843   \n",
       "1     Barton         13019            10308             3238              871   \n",
       "2  Bennelong         12778            11897             3284              571   \n",
       "3    Berowra          9604            12304             4227              946   \n",
       "4   Blaxland         11650            10429             5160             2172   \n",
       "\n",
       "   Family5Children  Family6PlusChildren  FamilyChildrenNA  HHInc_Negative  \\\n",
       "0              180                   73             33478             127   \n",
       "1              177                   69             41666             168   \n",
       "2               81                   19             38867             163   \n",
       "3              156                   68             24731              63   \n",
       "4              693                  341             30545             209   \n",
       "\n",
       "   HHInc_Nil  ...  PUP  REP  RUA  SAL  SEP  SMK  SOL  SPP  VEP  XEN  \n",
       "0        831  ...    0    0    0    0    0    0    0    0    0    0  \n",
       "1       1347  ...    0    0    0    0    0    0    0    0    0    0  \n",
       "2       1461  ...    0    0    0    0    0    0    0    0    0    0  \n",
       "3        418  ...    0    0    0    0    0    0    0    0    0    0  \n",
       "4       1017  ...    0    0    0    0    0    0    0    0    0    0  \n",
       "\n",
       "[5 rows x 164 columns]"
      ]
     },
     "execution_count": 32,
     "metadata": {},
     "output_type": "execute_result"
    }
   ],
   "source": [
    "election = pd.merge(census, results, how=\"outer\", on=\"CED\")\n",
    "print(election.shape)\n",
    "election.head()"
   ]
  },
  {
   "cell_type": "code",
   "execution_count": 33,
   "metadata": {},
   "outputs": [],
   "source": [
    "election.to_csv('./data/ElectionCombined.csv')"
   ]
  },
  {
   "cell_type": "code",
   "execution_count": 120,
   "metadata": {},
   "outputs": [
    {
     "data": {
      "text/plain": [
       "0      46081\n",
       "1      52298\n",
       "2      53801\n",
       "3      45211\n",
       "4      39035\n",
       "5      47882\n",
       "6      41885\n",
       "7      47518\n",
       "8      44273\n",
       "9      32292\n",
       "10     40463\n",
       "11     38559\n",
       "12     43182\n",
       "13     43839\n",
       "14     37975\n",
       "15     30414\n",
       "16     56491\n",
       "17     55929\n",
       "18     48452\n",
       "19     46685\n",
       "20     39414\n",
       "21     56452\n",
       "22     53637\n",
       "23     28333\n",
       "24     49219\n",
       "25     45538\n",
       "26     42073\n",
       "27     43852\n",
       "28     51109\n",
       "29     39385\n",
       "       ...  \n",
       "120    41927\n",
       "121    34450\n",
       "122    42573\n",
       "123    39181\n",
       "124    39831\n",
       "125    45360\n",
       "126    48393\n",
       "127    36012\n",
       "128    42416\n",
       "129    41375\n",
       "130    58590\n",
       "131    37456\n",
       "132    45161\n",
       "133    40487\n",
       "134    42537\n",
       "135    43204\n",
       "136    52942\n",
       "137    50263\n",
       "138    43569\n",
       "139    48886\n",
       "140    37189\n",
       "141    24228\n",
       "142    22223\n",
       "143    26121\n",
       "144    26265\n",
       "145    22813\n",
       "146    30372\n",
       "147    44008\n",
       "148    67432\n",
       "149    70199\n",
       "Name: LabourForceStatus_Employed_worked_FT, Length: 150, dtype: int64"
      ]
     },
     "execution_count": 120,
     "metadata": {},
     "output_type": "execute_result"
    }
   ],
   "source": [
    "election['LabourForceStatus_Employed_worked_FT']"
   ]
  },
  {
   "cell_type": "markdown",
   "metadata": {},
   "source": [
    "## Regression"
   ]
  },
  {
   "cell_type": "markdown",
   "metadata": {},
   "source": [
    "**Objective: Using the available data predict turnout at the election.**"
   ]
  },
  {
   "cell_type": "markdown",
   "metadata": {},
   "source": [
    "**Basic level**\n",
    "- Explore the relationships between the features.\n",
    "- Select or engineer features that are assocciated with the response variable.\n",
    "- Create one-hot vectors for categorical variables.\n",
    "- Create a train/test split (try different ratios).\n",
    "- Standartise the dataset if needed.\n",
    "- Train and evaluate a regression model.\n",
    "- Use a dummy estimator to compare your model against it.\n",
    "\n",
    "**Intermediate level**\n",
    "- Decide if you should fit the intercept.\n",
    "- Try high degree polynomials (all variables, some variables or interaction terms only).\n",
    "- Create train-validation-test split to tune your model.\n",
    "\n",
    "**Advanced level**\n",
    "- Use three-way split with cross-validation.\n",
    "- Try regularisation techniques.\n",
    "- Generate synthetic data."
   ]
  },
  {
   "cell_type": "code",
   "execution_count": 34,
   "metadata": {},
   "outputs": [],
   "source": [
    "#vlada results\n",
    "\n",
    "# RNSE 2400\n",
    "# Acc 0.7"
   ]
  },
  {
   "cell_type": "markdown",
   "metadata": {},
   "source": [
    "### Explore target variable"
   ]
  },
  {
   "cell_type": "code",
   "execution_count": 35,
   "metadata": {},
   "outputs": [
    {
     "data": {
      "image/png": "[encoded data removed]",
      "text/plain": [
       "<Figure size 1080x360 with 1 Axes>"
      ]
     },
     "metadata": {},
     "output_type": "display_data"
    }
   ],
   "source": [
    "election.Turnout.hist(bins=25);"
   ]
  },
  {
   "cell_type": "code",
   "execution_count": 36,
   "metadata": {},
   "outputs": [
    {
     "data": {
      "image/png": "[encoded data removed]",
      "text/plain": [
       "<Figure size 1080x360 with 1 Axes>"
      ]
     },
     "metadata": {},
     "output_type": "display_data"
    }
   ],
   "source": [
    "outcome = election.Turnout\n",
    "\n",
    "election[['Turnout']].boxplot();"
   ]
  },
  {
   "cell_type": "markdown",
   "metadata": {},
   "source": [
    "###### Create a list of column names containing features from census dataset plus State and Enrolment variables."
   ]
  },
  {
   "cell_type": "code",
   "execution_count": 37,
   "metadata": {},
   "outputs": [],
   "source": [
    "\n",
    "# need to change the male and female columsn to male-ratio n female ratio\n",
    "\n",
    "col_names = ['Male', 'Female', 'State','Enrolment']\n",
    "\n"
   ]
  },
  {
   "cell_type": "markdown",
   "metadata": {},
   "source": [
    "###### How different features are correlated with the target variable?"
   ]
  },
  {
   "cell_type": "code",
   "execution_count": 126,
   "metadata": {},
   "outputs": [
    {
     "data": {
      "text/plain": [
       "<matplotlib.axes._subplots.AxesSubplot at 0x1fd244fb470>"
      ]
     },
     "execution_count": 126,
     "metadata": {},
     "output_type": "execute_result"
    },
    {
     "data": {
      "image/png": "[encoded data removed]",
      "text/plain": [
       "<Figure size 1080x360 with 1 Axes>"
      ]
     },
     "metadata": {},
     "output_type": "display_data"
    }
   ],
   "source": [
    "results.corrwith(results.Turnout).sort_values().dropna().plot(kind='bar')"
   ]
  },
  {
   "cell_type": "markdown",
   "metadata": {},
   "source": [
    "### Transform the `State` variable"
   ]
  },
  {
   "cell_type": "code",
   "execution_count": 39,
   "metadata": {},
   "outputs": [],
   "source": [
    "state_dummy=pd.get_dummies(results.State,drop_first=True) \n",
    "#since inputs of regressions can only be numerical,\n",
    "#get_dummies function translates the strings populating the state column into numbers / vectors"
   ]
  },
  {
   "cell_type": "code",
   "execution_count": 40,
   "metadata": {},
   "outputs": [
    {
     "data": {
      "text/html": [
       "<div>\n",
       "<style scoped>\n",
       "    .dataframe tbody tr th:only-of-type {\n",
       "        vertical-align: middle;\n",
       "    }\n",
       "\n",
       "    .dataframe tbody tr th {\n",
       "        vertical-align: top;\n",
       "    }\n",
       "\n",
       "    .dataframe thead th {\n",
       "        text-align: right;\n",
       "    }\n",
       "</style>\n",
       "<table border=\"1\" class=\"dataframe\">\n",
       "  <thead>\n",
       "    <tr style=\"text-align: right;\">\n",
       "      <th></th>\n",
       "      <th>NSW</th>\n",
       "      <th>NT</th>\n",
       "      <th>QLD</th>\n",
       "      <th>SA</th>\n",
       "      <th>TAS</th>\n",
       "      <th>VIC</th>\n",
       "      <th>WA</th>\n",
       "    </tr>\n",
       "  </thead>\n",
       "  <tbody>\n",
       "    <tr>\n",
       "      <th>0</th>\n",
       "      <td>0</td>\n",
       "      <td>0</td>\n",
       "      <td>0</td>\n",
       "      <td>0</td>\n",
       "      <td>0</td>\n",
       "      <td>0</td>\n",
       "      <td>0</td>\n",
       "    </tr>\n",
       "    <tr>\n",
       "      <th>1</th>\n",
       "      <td>0</td>\n",
       "      <td>0</td>\n",
       "      <td>0</td>\n",
       "      <td>0</td>\n",
       "      <td>0</td>\n",
       "      <td>0</td>\n",
       "      <td>0</td>\n",
       "    </tr>\n",
       "    <tr>\n",
       "      <th>2</th>\n",
       "      <td>1</td>\n",
       "      <td>0</td>\n",
       "      <td>0</td>\n",
       "      <td>0</td>\n",
       "      <td>0</td>\n",
       "      <td>0</td>\n",
       "      <td>0</td>\n",
       "    </tr>\n",
       "    <tr>\n",
       "      <th>3</th>\n",
       "      <td>1</td>\n",
       "      <td>0</td>\n",
       "      <td>0</td>\n",
       "      <td>0</td>\n",
       "      <td>0</td>\n",
       "      <td>0</td>\n",
       "      <td>0</td>\n",
       "    </tr>\n",
       "    <tr>\n",
       "      <th>4</th>\n",
       "      <td>1</td>\n",
       "      <td>0</td>\n",
       "      <td>0</td>\n",
       "      <td>0</td>\n",
       "      <td>0</td>\n",
       "      <td>0</td>\n",
       "      <td>0</td>\n",
       "    </tr>\n",
       "  </tbody>\n",
       "</table>\n",
       "</div>"
      ],
      "text/plain": [
       "   NSW  NT  QLD  SA  TAS  VIC  WA\n",
       "0    0   0    0   0    0    0   0\n",
       "1    0   0    0   0    0    0   0\n",
       "2    1   0    0   0    0    0   0\n",
       "3    1   0    0   0    0    0   0\n",
       "4    1   0    0   0    0    0   0"
      ]
     },
     "execution_count": 40,
     "metadata": {},
     "output_type": "execute_result"
    }
   ],
   "source": [
    "state_dummy.head()"
   ]
  },
  {
   "cell_type": "code",
   "execution_count": 127,
   "metadata": {},
   "outputs": [],
   "source": [
    "election_dummy=pd.concat([election.drop('State',axis=1),state_dummy],axis=1).copy()"
   ]
  },
  {
   "cell_type": "code",
   "execution_count": 128,
   "metadata": {},
   "outputs": [
    {
     "data": {
      "text/html": [
       "<div>\n",
       "<style scoped>\n",
       "    .dataframe tbody tr th:only-of-type {\n",
       "        vertical-align: middle;\n",
       "    }\n",
       "\n",
       "    .dataframe tbody tr th {\n",
       "        vertical-align: top;\n",
       "    }\n",
       "\n",
       "    .dataframe thead th {\n",
       "        text-align: right;\n",
       "    }\n",
       "</style>\n",
       "<table border=\"1\" class=\"dataframe\">\n",
       "  <thead>\n",
       "    <tr style=\"text-align: right;\">\n",
       "      <th></th>\n",
       "      <th>CED</th>\n",
       "      <th>Family1Child</th>\n",
       "      <th>Family2Children</th>\n",
       "      <th>Family3Children</th>\n",
       "      <th>Family4Children</th>\n",
       "      <th>Family5Children</th>\n",
       "      <th>Family6PlusChildren</th>\n",
       "      <th>FamilyChildrenNA</th>\n",
       "      <th>HHInc_Negative</th>\n",
       "      <th>HHInc_Nil</th>\n",
       "      <th>...</th>\n",
       "      <th>SPP</th>\n",
       "      <th>VEP</th>\n",
       "      <th>XEN</th>\n",
       "      <th>NSW</th>\n",
       "      <th>NT</th>\n",
       "      <th>QLD</th>\n",
       "      <th>SA</th>\n",
       "      <th>TAS</th>\n",
       "      <th>VIC</th>\n",
       "      <th>WA</th>\n",
       "    </tr>\n",
       "  </thead>\n",
       "  <tbody>\n",
       "    <tr>\n",
       "      <th>0</th>\n",
       "      <td>Banks</td>\n",
       "      <td>11868</td>\n",
       "      <td>11201</td>\n",
       "      <td>3593</td>\n",
       "      <td>843</td>\n",
       "      <td>180</td>\n",
       "      <td>73</td>\n",
       "      <td>33478</td>\n",
       "      <td>127</td>\n",
       "      <td>831</td>\n",
       "      <td>...</td>\n",
       "      <td>0</td>\n",
       "      <td>0</td>\n",
       "      <td>0</td>\n",
       "      <td>0</td>\n",
       "      <td>0</td>\n",
       "      <td>0</td>\n",
       "      <td>0</td>\n",
       "      <td>0</td>\n",
       "      <td>0</td>\n",
       "      <td>0</td>\n",
       "    </tr>\n",
       "    <tr>\n",
       "      <th>1</th>\n",
       "      <td>Barton</td>\n",
       "      <td>13019</td>\n",
       "      <td>10308</td>\n",
       "      <td>3238</td>\n",
       "      <td>871</td>\n",
       "      <td>177</td>\n",
       "      <td>69</td>\n",
       "      <td>41666</td>\n",
       "      <td>168</td>\n",
       "      <td>1347</td>\n",
       "      <td>...</td>\n",
       "      <td>0</td>\n",
       "      <td>0</td>\n",
       "      <td>0</td>\n",
       "      <td>0</td>\n",
       "      <td>0</td>\n",
       "      <td>0</td>\n",
       "      <td>0</td>\n",
       "      <td>0</td>\n",
       "      <td>0</td>\n",
       "      <td>0</td>\n",
       "    </tr>\n",
       "    <tr>\n",
       "      <th>2</th>\n",
       "      <td>Bennelong</td>\n",
       "      <td>12778</td>\n",
       "      <td>11897</td>\n",
       "      <td>3284</td>\n",
       "      <td>571</td>\n",
       "      <td>81</td>\n",
       "      <td>19</td>\n",
       "      <td>38867</td>\n",
       "      <td>163</td>\n",
       "      <td>1461</td>\n",
       "      <td>...</td>\n",
       "      <td>0</td>\n",
       "      <td>0</td>\n",
       "      <td>0</td>\n",
       "      <td>1</td>\n",
       "      <td>0</td>\n",
       "      <td>0</td>\n",
       "      <td>0</td>\n",
       "      <td>0</td>\n",
       "      <td>0</td>\n",
       "      <td>0</td>\n",
       "    </tr>\n",
       "    <tr>\n",
       "      <th>3</th>\n",
       "      <td>Berowra</td>\n",
       "      <td>9604</td>\n",
       "      <td>12304</td>\n",
       "      <td>4227</td>\n",
       "      <td>946</td>\n",
       "      <td>156</td>\n",
       "      <td>68</td>\n",
       "      <td>24731</td>\n",
       "      <td>63</td>\n",
       "      <td>418</td>\n",
       "      <td>...</td>\n",
       "      <td>0</td>\n",
       "      <td>0</td>\n",
       "      <td>0</td>\n",
       "      <td>1</td>\n",
       "      <td>0</td>\n",
       "      <td>0</td>\n",
       "      <td>0</td>\n",
       "      <td>0</td>\n",
       "      <td>0</td>\n",
       "      <td>0</td>\n",
       "    </tr>\n",
       "    <tr>\n",
       "      <th>4</th>\n",
       "      <td>Blaxland</td>\n",
       "      <td>11650</td>\n",
       "      <td>10429</td>\n",
       "      <td>5160</td>\n",
       "      <td>2172</td>\n",
       "      <td>693</td>\n",
       "      <td>341</td>\n",
       "      <td>30545</td>\n",
       "      <td>209</td>\n",
       "      <td>1017</td>\n",
       "      <td>...</td>\n",
       "      <td>0</td>\n",
       "      <td>0</td>\n",
       "      <td>0</td>\n",
       "      <td>1</td>\n",
       "      <td>0</td>\n",
       "      <td>0</td>\n",
       "      <td>0</td>\n",
       "      <td>0</td>\n",
       "      <td>0</td>\n",
       "      <td>0</td>\n",
       "    </tr>\n",
       "  </tbody>\n",
       "</table>\n",
       "<p>5 rows × 170 columns</p>\n",
       "</div>"
      ],
      "text/plain": [
       "         CED  Family1Child  Family2Children  Family3Children  Family4Children  \\\n",
       "0      Banks         11868            11201             3593              843   \n",
       "1     Barton         13019            10308             3238              871   \n",
       "2  Bennelong         12778            11897             3284              571   \n",
       "3    Berowra          9604            12304             4227              946   \n",
       "4   Blaxland         11650            10429             5160             2172   \n",
       "\n",
       "   Family5Children  Family6PlusChildren  FamilyChildrenNA  HHInc_Negative  \\\n",
       "0              180                   73             33478             127   \n",
       "1              177                   69             41666             168   \n",
       "2               81                   19             38867             163   \n",
       "3              156                   68             24731              63   \n",
       "4              693                  341             30545             209   \n",
       "\n",
       "   HHInc_Nil  ...  SPP  VEP  XEN  NSW  NT  QLD  SA  TAS  VIC  WA  \n",
       "0        831  ...    0    0    0    0   0    0   0    0    0   0  \n",
       "1       1347  ...    0    0    0    0   0    0   0    0    0   0  \n",
       "2       1461  ...    0    0    0    1   0    0   0    0    0   0  \n",
       "3        418  ...    0    0    0    1   0    0   0    0    0   0  \n",
       "4       1017  ...    0    0    0    1   0    0   0    0    0   0  \n",
       "\n",
       "[5 rows x 170 columns]"
      ]
     },
     "execution_count": 128,
     "metadata": {},
     "output_type": "execute_result"
    }
   ],
   "source": [
    "election_dummy.head()"
   ]
  },
  {
   "cell_type": "markdown",
   "metadata": {},
   "source": [
    "### Build a regression model"
   ]
  },
  {
   "cell_type": "markdown",
   "metadata": {},
   "source": [
    "###### Define the feature map and the response variable"
   ]
  },
  {
   "cell_type": "code",
   "execution_count": 93,
   "metadata": {},
   "outputs": [
    {
     "name": "stdout",
     "output_type": "stream",
     "text": [
      "(150, 1) (150,)\n"
     ]
    }
   ],
   "source": [
    "feature_cols = ['Enrolment']\n",
    "X = election_dummy[feature_cols]\n",
    "y = election_dummy.Turnout.values\n",
    "\n",
    "print(X.shape, y.shape)"
   ]
  },
  {
   "cell_type": "markdown",
   "metadata": {},
   "source": [
    "###### Train-test split"
   ]
  },
  {
   "cell_type": "code",
   "execution_count": 94,
   "metadata": {},
   "outputs": [],
   "source": [
    "from sklearn.model_selection import train_test_split\n",
    "X_train, X_test, y_train, y_test = train_test_split(X, y, test_size=0.33, random_state=42)"
   ]
  },
  {
   "cell_type": "code",
   "execution_count": 95,
   "metadata": {},
   "outputs": [
    {
     "data": {
      "text/plain": [
       "(50, 1)"
      ]
     },
     "execution_count": 95,
     "metadata": {},
     "output_type": "execute_result"
    }
   ],
   "source": [
    "X_test.shape"
   ]
  },
  {
   "cell_type": "markdown",
   "metadata": {},
   "source": [
    "###### Standardise the data"
   ]
  },
  {
   "cell_type": "code",
   "execution_count": 96,
   "metadata": {},
   "outputs": [
    {
     "name": "stderr",
     "output_type": "stream",
     "text": [
      "C:\\Users\\Yoshi\\Anaconda3\\lib\\site-packages\\sklearn\\preprocessing\\data.py:645: DataConversionWarning: Data with input dtype int64 were all converted to float64 by StandardScaler.\n",
      "  return self.partial_fit(X, y)\n",
      "C:\\Users\\Yoshi\\Anaconda3\\lib\\site-packages\\sklearn\\base.py:464: DataConversionWarning: Data with input dtype int64 were all converted to float64 by StandardScaler.\n",
      "  return self.fit(X, **fit_params).transform(X)\n",
      "C:\\Users\\Yoshi\\Anaconda3\\lib\\site-packages\\ipykernel_launcher.py:4: DataConversionWarning: Data with input dtype int64 were all converted to float64 by StandardScaler.\n",
      "  after removing the cwd from sys.path.\n"
     ]
    }
   ],
   "source": [
    "from sklearn.preprocessing import StandardScaler\n",
    "scaler = StandardScaler()\n",
    "X_train = scaler.fit_transform(X_train)\n",
    "X_test = scaler.transform(X_test)"
   ]
  },
  {
   "cell_type": "markdown",
   "metadata": {},
   "source": [
    "###### Fit linear regression"
   ]
  },
  {
   "cell_type": "code",
   "execution_count": 97,
   "metadata": {},
   "outputs": [
    {
     "data": {
      "text/plain": [
       "sklearn.linear_model.base.LinearRegression"
      ]
     },
     "execution_count": 97,
     "metadata": {},
     "output_type": "execute_result"
    }
   ],
   "source": [
    "from sklearn.linear_model import LinearRegression\n",
    "from sklearn import metrics\n",
    "lin_reg = LinearRegression()\n",
    "type(lin_reg)"
   ]
  },
  {
   "cell_type": "code",
   "execution_count": 98,
   "metadata": {},
   "outputs": [
    {
     "data": {
      "text/plain": [
       "LinearRegression(copy_X=True, fit_intercept=True, n_jobs=None,\n",
       "         normalize=False)"
      ]
     },
     "execution_count": 98,
     "metadata": {},
     "output_type": "execute_result"
    }
   ],
   "source": [
    "lin_reg.fit(X_train, y_train)"
   ]
  },
  {
   "cell_type": "markdown",
   "metadata": {},
   "source": [
    "###### Performance evaluation"
   ]
  },
  {
   "cell_type": "code",
   "execution_count": 99,
   "metadata": {
    "scrolled": true
   },
   "outputs": [],
   "source": [
    "y_pred = lin_reg.predict(X_test)"
   ]
  },
  {
   "cell_type": "code",
   "execution_count": 100,
   "metadata": {},
   "outputs": [
    {
     "name": "stdout",
     "output_type": "stream",
     "text": [
      "lin reg: R2: 0.9291146902708557 RMSE: 2948.740363152911\n"
     ]
    }
   ],
   "source": [
    "print('lin reg: R2:', metrics.r2_score(y_test,y_pred),\n",
    "      'RMSE:', np.sqrt(metrics.mean_squared_error(y_test,y_pred)))"
   ]
  },
  {
   "cell_type": "markdown",
   "metadata": {},
   "source": [
    "###### Null RMSE"
   ]
  },
  {
   "cell_type": "code",
   "execution_count": 101,
   "metadata": {},
   "outputs": [],
   "source": [
    "y_null = y_pred\n",
    "y_null.fill(y_test.mean())"
   ]
  },
  {
   "cell_type": "code",
   "execution_count": 102,
   "metadata": {},
   "outputs": [
    {
     "name": "stdout",
     "output_type": "stream",
     "text": [
      "R2: 0.0 RMSE: 11075.374337691706\n"
     ]
    }
   ],
   "source": [
    "print('R2:', metrics.r2_score(y_test,y_null),\n",
    "      'RMSE:', np.sqrt(metrics.mean_squared_error(y_test,y_null)))"
   ]
  },
  {
   "cell_type": "code",
   "execution_count": 103,
   "metadata": {},
   "outputs": [
    {
     "name": "stdout",
     "output_type": "stream",
     "text": [
      "[0.91136352 0.73120546 0.93605662 0.87484081 0.90803607 0.77412247\n",
      " 0.5974601  0.44843396 0.95746885 0.734442  ]\n",
      "0.7873429877640615\n"
     ]
    }
   ],
   "source": [
    "from sklearn.model_selection import cross_val_score\n",
    "\n",
    "linreg = LinearRegression()\n",
    "\n",
    "linreg_scores = cross_val_score(linreg, X_train, y_train, cv=10)   #cv = 10 given in the question\n",
    "\n",
    "print(linreg_scores)\n",
    "print(np.mean(linreg_scores))"
   ]
  },
  {
   "cell_type": "markdown",
   "metadata": {},
   "source": [
    "###### Try other models and subsets of features and use cross-validation to evaluate your model."
   ]
  },
  {
   "cell_type": "code",
   "execution_count": 104,
   "metadata": {},
   "outputs": [],
   "source": [
    "#Ridge"
   ]
  },
  {
   "cell_type": "code",
   "execution_count": 105,
   "metadata": {},
   "outputs": [
    {
     "name": "stdout",
     "output_type": "stream",
     "text": [
      "5.052631065335681\n"
     ]
    }
   ],
   "source": [
    "#find the optimal ridge\n",
    "ridge_alphas = np.logspace(0, 5, 200)\n",
    "\n",
    "optimal_ridge = RidgeCV(alphas=ridge_alphas, cv=10).fit(X_train, y_train)\n",
    "\n",
    "print(optimal_ridge.alpha_)"
   ]
  },
  {
   "cell_type": "code",
   "execution_count": 106,
   "metadata": {},
   "outputs": [
    {
     "name": "stdout",
     "output_type": "stream",
     "text": [
      "[0.8984364  0.73169428 0.93623182 0.88456913 0.91826854 0.76860575\n",
      " 0.60781099 0.47375617 0.94204513 0.73891872]\n",
      "0.790033691981612\n"
     ]
    }
   ],
   "source": [
    "ridge = Ridge(alpha=optimal_ridge.alpha_)\n",
    "\n",
    "ridge_scores = cross_val_score(ridge, X_train, y_train, cv=10)\n",
    "\n",
    "print(ridge_scores)\n",
    "print(np.mean(ridge_scores))"
   ]
  },
  {
   "cell_type": "code",
   "execution_count": 107,
   "metadata": {},
   "outputs": [
    {
     "name": "stdout",
     "output_type": "stream",
     "text": [
      "Ridge: R2: 0.920392116777013 RMSE: 3124.902359741813\n"
     ]
    }
   ],
   "source": [
    "#fit it\n",
    "ridge.fit(X_train, y_train)\n",
    "\n",
    "#predict from test set\n",
    "y_pred = ridge.predict(X_test)\n",
    "\n",
    "#show R2 and RMSE\n",
    "print('Ridge: R2:', metrics.r2_score(y_test,y_pred),\n",
    "      'RMSE:', np.sqrt(metrics.mean_squared_error(y_test,y_pred)))"
   ]
  },
  {
   "cell_type": "code",
   "execution_count": 108,
   "metadata": {},
   "outputs": [],
   "source": [
    "#worse than linear regression"
   ]
  },
  {
   "cell_type": "code",
   "execution_count": null,
   "metadata": {},
   "outputs": [],
   "source": []
  },
  {
   "cell_type": "code",
   "execution_count": 109,
   "metadata": {},
   "outputs": [],
   "source": [
    "#lasso"
   ]
  },
  {
   "cell_type": "code",
   "execution_count": 110,
   "metadata": {},
   "outputs": [
    {
     "name": "stderr",
     "output_type": "stream",
     "text": [
      "[Parallel(n_jobs=1)]: Using backend SequentialBackend with 1 concurrent workers.\n",
      "......................................................................................................................................................................................................................................................................................................................................................................................................................................................................................................................................................................................................................................................................................................................................................................................................................................................................................................................................................................................................................................................................................................................................................................................................................................................................................................................................................................................................................................................................................................................................................................................................................................................................................................................................................................................................................................................................................................................................................................................................................................................................................................................................................................................................................................................................................................................................................................................................................................................................................................................................................................................................................................................................................................................................................................................................................................................................................................................................................................................................................................................................................................................................................................................................................................................................................................................................................................................................................................................................................................................................................................................................................................................................................................................................................................................................................................................................................................................................................................................................................................................................................................................................................................................................................................................................................................................................................................................................................................................................................................................................................................................................................................................................................................................................................................................................................................................................................................................................................................................................................................................................."
     ]
    },
    {
     "name": "stdout",
     "output_type": "stream",
     "text": [
      "8.036297788315899\n"
     ]
    },
    {
     "name": "stderr",
     "output_type": "stream",
     "text": [
      ".................................................................................................................................[Parallel(n_jobs=1)]: Done  10 out of  10 | elapsed:    0.7s finished\n"
     ]
    }
   ],
   "source": [
    "#find optimal alpha\n",
    "optimal_lasso = LassoCV(n_alphas=500, cv=10, verbose=1)\n",
    "optimal_lasso.fit(X_train, y_train)\n",
    "\n",
    "print(optimal_lasso.alpha_)"
   ]
  },
  {
   "cell_type": "code",
   "execution_count": 111,
   "metadata": {},
   "outputs": [
    {
     "name": "stdout",
     "output_type": "stream",
     "text": [
      "[0.91116347 0.73125274 0.93611594 0.87508986 0.9082919  0.77405572\n",
      " 0.59769457 0.44894997 0.95721542 0.73456517]\n",
      "0.7874394754122341\n"
     ]
    }
   ],
   "source": [
    "lasso = Lasso(alpha=optimal_lasso.alpha_)\n",
    "\n",
    "lasso_scores = cross_val_score(lasso, X_train, y_train, cv=10)\n",
    "\n",
    "print(lasso_scores)\n",
    "print(np.mean(lasso_scores))\n"
   ]
  },
  {
   "cell_type": "code",
   "execution_count": 112,
   "metadata": {},
   "outputs": [
    {
     "name": "stdout",
     "output_type": "stream",
     "text": [
      "Lasso: R2: 0.9289736296892837 RMSE: 2951.6728769830843\n"
     ]
    }
   ],
   "source": [
    "lasso.fit(X_train, y_train)\n",
    "#predict from test set\n",
    "y_pred = lasso.predict(X_test)\n",
    "\n",
    "#show R2 and RMSE\n",
    "print('Lasso: R2:', metrics.r2_score(y_test,y_pred),\n",
    "      'RMSE:', np.sqrt(metrics.mean_squared_error(y_test,y_pred)))"
   ]
  },
  {
   "cell_type": "code",
   "execution_count": 63,
   "metadata": {},
   "outputs": [],
   "source": [
    "#enet"
   ]
  },
  {
   "cell_type": "code",
   "execution_count": 130,
   "metadata": {},
   "outputs": [
    {
     "name": "stderr",
     "output_type": "stream",
     "text": [
      "[Parallel(n_jobs=1)]: Using backend SequentialBackend with 1 concurrent workers.\n"
     ]
    },
    {
     "name": "stderr",
     "output_type": "stream",
     "text": [
      "................................................................................................................................................................................................................................................................................................................................................................................................................................................................................................................................................................................................................................................................................................................................................................................................................................................................................................................................................................................................................................................................................................................................................................................................................................................................................................................................................................................................................................................................................................................................................................................................................................................................................................................................................................................................................................................................................................................................................................................................................................................................................................................................................................................................................................................................................................................................................................................................................................................................................................................................................................................................................................................................................................................................................................................................................................................................................................................................................................................................................................................................................................................................................................................................................................................................................................................................................................................................................................................................................................................................................................................................................................................................................................................................................................................................................................................................................................................................................................................................................................................................................................................................................................................................................................................................................................................................................................................................................................................................................................................................................................................................................................................................................................................................................................................................................................................................................................................................................................................................................................................................................................................................................................................................................................................................................................................................................................................................................................................................................................................................................................................................................................................................................................................................................................................................................................................................................................................................................................................................................................................................................................................................................................................................................................................................................................................................................................................................................................................................................................................................................................................................................................................................................................................................................................................................................................................................................................................................................................................................................................................................................................................................................................................................................................................................................................................................................................................................................................................................................................................................................................................................................................................................................................................................................................................................................................................................................................................................................................................................................................................................................................................................................................................................................................................................................................................................................................................................................................................................................................................................................................................................................................................................................................................................................................................................................................................................................................................................................................................................................................................................................................................................................................................................................................................................................................................................................................................................................................................................................................................................................................................................................................................................................................................................................................................................................................................................................................................................................................................................................"
     ]
    },
    {
     "name": "stderr",
     "output_type": "stream",
     "text": [
      "............................................................................................................................................................................................................................................................................................................................................................................................................................................................................................................................................................................................................................................................................................................................................................................................................................................................................................................................................................................................................................................................................................................................................................................................................................................................................................................................................................................................................................................................................................................................................................................................................................................................................................................................................................................................................................................................................................................................................................................................................................................................................................................................................................................................................................................................................................................................................................................................................................................................................................................................................................................................................................................................................................................................................................................................................................................................................................................................................................................................................................................................................................................................................................................................................................................................................................................................................................................................................................................................................................................................................................................................................................................................................................................................................................................................................................................................................................................................................................................................................................................................................................................................................................................................................................................................................................................................................................................................................................................................................................................................................................................................................................................................................................................................................................................................................................................................................................................................................................................................................................................................................................................................................................................................................................................................................................................................................................................................................................................................................................................................................................................................................................................................................................................................................................................................................................................................................................................................................................................................................................................................................................................................................................................................................................................................................................................................................................................................................................................................................................................................................................................................................................................................................................................................................................................................................................................................................................................................................................................................................................................................................................................................................................................................................................................................................................................................................................................................................................................................................................................................................................................................................................................................................................................................................................................................................................................................................................................................................................................................................................................................................................................................................................................................................................................................................................................................................................................................................................................................................................................................................................................................................................................................................................................................................................................................................................................................................................................................................................................................................................................................................................................................................................................................................................................................................................................................................................................................................................................................................................................................................................................................................................................................................................"
     ]
    },
    {
     "name": "stderr",
     "output_type": "stream",
     "text": [
      "......................................................................................................................................................................................................................................................................................................................................................................................................................................................................................................................................................................................................................................................................................................................................................................................................................................................................................................................................................................................................................................................................................................................................................................................................................................................................................................................................................................................................................................................................................................................................................................................................................................................................................................................................................................................................................................................................................................................................................................................................................................................................................................................................................................................................................................................................................................................................................................................................................................................................................................................................................................................................................................................................................................................................................................................................................................................................................................................................................................................................................................................................................................................................................................................................................................................................................................................................................................................................................................................................................................................................................................................................................................................................................................................................................................................................................................................................................................................................................................................................................................................................................................................................................................................................................................................................................................................................................................................................................................................................................................................................................................................................................................................................................................................................................................................................................................................................................................................................................................................................................................................................................................................................................................................................................................................................................................................................................................................................................................................................................................................................................................................................................................................................................................................................................................................................................................................................................................................................................................................"
     ]
    },
    {
     "name": "stdout",
     "output_type": "stream",
     "text": [
      "8.036297788315899\n",
      "1.0\n"
     ]
    },
    {
     "name": "stderr",
     "output_type": "stream",
     "text": [
      "......................................................................................................................................................................................................................................................................................................................................[Parallel(n_jobs=1)]: Done 250 out of 250 | elapsed:    3.9s finished\n"
     ]
    }
   ],
   "source": [
    "l1_ratios = np.linspace(0.01, 1.0, 25)\n",
    "\n",
    "optimal_enet = ElasticNetCV(l1_ratio=l1_ratios, n_alphas=100, cv=10, verbose=1).fit(X_train, y_train)\n",
    "\n",
    "print(optimal_enet.alpha_)\n",
    "print(optimal_enet.l1_ratio_)"
   ]
  },
  {
   "cell_type": "code",
   "execution_count": 65,
   "metadata": {},
   "outputs": [
    {
     "name": "stdout",
     "output_type": "stream",
     "text": [
      "[0.90830704 0.71852782 0.935934   0.87864159 0.91144145 0.77274752\n",
      " 0.60735292 0.46215919 0.95102621 0.73427268]\n",
      "0.7880410402941569\n"
     ]
    }
   ],
   "source": [
    "enet = ElasticNet(alpha=optimal_enet.alpha_, l1_ratio=optimal_enet.l1_ratio_)\n",
    "\n",
    "enet_scores = cross_val_score(enet, X_train, y_train, cv=10)\n",
    "\n",
    "print(enet_scores)\n",
    "print(np.mean(enet_scores))"
   ]
  },
  {
   "cell_type": "code",
   "execution_count": 66,
   "metadata": {},
   "outputs": [
    {
     "name": "stdout",
     "output_type": "stream",
     "text": [
      "enet: R2: 0.9280766993426748 RMSE: 2970.2514644483667\n"
     ]
    }
   ],
   "source": [
    "enet.fit(X_train, y_train)\n",
    "#predict from test set\n",
    "y_pred = enet.predict(X_test)\n",
    "\n",
    "#show R2 and RMSE\n",
    "print('enet: R2:', metrics.r2_score(y_test,y_pred),\n",
    "      'RMSE:', np.sqrt(metrics.mean_squared_error(y_test,y_pred)))"
   ]
  },
  {
   "cell_type": "code",
   "execution_count": null,
   "metadata": {},
   "outputs": [],
   "source": []
  },
  {
   "cell_type": "code",
   "execution_count": 131,
   "metadata": {},
   "outputs": [],
   "source": [
    "# make above code into a function input is a list of features\n",
    "\n",
    "\n",
    "\n",
    "def r2_rmse_repeat(feature_cols, split):\n",
    "    X = election_dummy[feature_cols]\n",
    "    y = election_dummy.Turnout.values\n",
    "\n",
    "    X_train, X_test, y_train, y_test = train_test_split(X, y, test_size=split , random_state=42)\n",
    "    \n",
    "    scaler = StandardScaler()\n",
    "    X_train = scaler.fit_transform(X_train)\n",
    "    X_test = scaler.transform(X_test)\n",
    "    \n",
    "   \n",
    "    lin_reg = LinearRegression().fit(X_train, y_train)\n",
    "    y_pred = lin_reg.predict(X_test) \n",
    "    #print('1', y_pred)\n",
    "    print('lin reg: R2:', metrics.r2_score(y_test, y_pred),'RMSE:', np.sqrt(metrics.mean_squared_error(y_test,y_pred)))\n",
    "\n",
    "    y_null = y_pred\n",
    "    y_null.fill(y_test.mean())\n",
    "    \n",
    "    #print('11',y_pred,'22',y_null,'33',y_test)\n",
    "    print('Null: R2:', metrics.r2_score(y_test,y_null),'RMSE:', np.sqrt(metrics.mean_squared_error(y_test,y_null)))\n",
    "    #print('lin reg: R2:', metrics.r2_score(y_test, y_pred),'RMSE:', np.sqrt(metrics.mean_squared_error(y_test,y_pred)))\n",
    "\n",
    "    ridge_alphas = np.logspace(0, 5, 200)\n",
    "    optimal_ridge = RidgeCV(alphas=ridge_alphas, cv=10).fit(X_train, y_train)\n",
    "    \n",
    "    ridge = Ridge(alpha=optimal_ridge.alpha_).fit(X_train, y_train)\n",
    "    y_pred = ridge.predict(X_test)\n",
    "    print('Ridge: R2:', metrics.r2_score(y_test,y_pred),'RMSE:', np.sqrt(metrics.mean_squared_error(y_test,y_pred)))\n",
    "\n",
    "    optimal_lasso = LassoCV(n_alphas=500, cv=10, verbose=1)\n",
    "    optimal_lasso.fit(X_train, y_train)\n",
    "\n",
    "    lasso = Lasso(alpha=optimal_lasso.alpha_).fit(X_train, y_train)\n",
    "    y_pred = lasso.predict(X_test)\n",
    "    print('Lasso: R2:', metrics.r2_score(y_test,y_pred), 'RMSE:', np.sqrt(metrics.mean_squared_error(y_test,y_pred)))\n",
    "\n",
    "    l1_ratios = np.linspace(0.01, 1.0, 25)\n",
    "    optimal_enet = ElasticNetCV(l1_ratio=l1_ratios, n_alphas=100, cv=10, verbose=1).fit(X_train, y_train)\n",
    "\n",
    "    enet = ElasticNet(alpha=optimal_enet.alpha_, l1_ratio=optimal_enet.l1_ratio_).fit(X_train, y_train)\n",
    "    y_pred = enet.predict(X_test)\n",
    "    print('enet: R2:', metrics.r2_score(y_test,y_pred),'RMSE:', np.sqrt(metrics.mean_squared_error(y_test,y_pred)))\n",
    "\n",
    "\n",
    "\n",
    "\n",
    "\n"
   ]
  },
  {
   "cell_type": "code",
   "execution_count": 132,
   "metadata": {},
   "outputs": [
    {
     "name": "stderr",
     "output_type": "stream",
     "text": [
      "C:\\Users\\Yoshi\\Anaconda3\\lib\\site-packages\\sklearn\\preprocessing\\data.py:645: DataConversionWarning: Data with input dtype uint8, int64 were all converted to float64 by StandardScaler.\n",
      "  return self.partial_fit(X, y)\n",
      "C:\\Users\\Yoshi\\Anaconda3\\lib\\site-packages\\sklearn\\base.py:464: DataConversionWarning: Data with input dtype uint8, int64 were all converted to float64 by StandardScaler.\n",
      "  return self.fit(X, **fit_params).transform(X)\n",
      "C:\\Users\\Yoshi\\Anaconda3\\lib\\site-packages\\ipykernel_launcher.py:13: DataConversionWarning: Data with input dtype uint8, int64 were all converted to float64 by StandardScaler.\n",
      "  del sys.path[0]\n"
     ]
    },
    {
     "name": "stdout",
     "output_type": "stream",
     "text": [
      "lin reg: R2: 0.9157826839183034 RMSE: 2619.1774934583245\n",
      "Null: R2: 0.0 RMSE: 9025.353722154052\n",
      "Ridge: R2: 0.9286507122617872 RMSE: 2410.7881763498253\n"
     ]
    },
    {
     "name": "stderr",
     "output_type": "stream",
     "text": [
      "[Parallel(n_jobs=1)]: Using backend SequentialBackend with 1 concurrent workers.\n",
      "........................................................................................................................................................................................................................................................................................................................................................................................................................................................................................................................................................................................................................................................................................................................................................................................................................................................................................................................................................................................................................................................................................................................................................................................................................................................................................................................................................................................................................................................................................................................................................................................................................................................................................................................................................................................................................................................................................................................................................................................................................................................................................................................................................................................................................................................................................................................................................................................................................................................................................................................................................................................................................................................................................................................................................................................................................................................................................................................................................................................................................................................................................................................................................................................................................................................................................................................................................................................................................................................................................................................................................................................................................................................................................................................................................................................................................................................................................................................................................................................................................................................................................................................................................................................................................................................................................................................................................................................................................................................................................................................................................................................................................................................................................................................................................................................................................................................................................................................................................................................................................................................................................................................................................................................................[Parallel(n_jobs=1)]: Done  10 out of  10 | elapsed:    0.7s finished\n",
      "[Parallel(n_jobs=1)]: Using backend SequentialBackend with 1 concurrent workers.\n",
      "..............................................................................................................................................................................................................................................................................................................................................................................................................................................................................................................................................................................................................................................................."
     ]
    },
    {
     "name": "stdout",
     "output_type": "stream",
     "text": [
      "Lasso: R2: 0.919713083179933 RMSE: 2557.329108860815\n"
     ]
    },
    {
     "name": "stderr",
     "output_type": "stream",
     "text": [
      "......................................................................................................................................................................................................................................................................................................................................................................................................................................................................................................................................................................................................................................................................................................................................................................................................................................................................................................................................................................................................................................................................................................................................................................................................................................................................................................................................................................................................................................................................................................................................................................................................................................................................................................................................................................................................................................................................................................................................................................................................................................................................................................................................................................................................................................................................................................................................................................................................................................................................................................................................................................................................................................................................................................................................................................................................................................................................................................................................................................................................................................................................................................................................................................................................................................................................................................................................................................................................................................................................................................................................................................................................................................................................................................................................................................................................................................................................................................................................................................................................................................................................................................................................................................................................................................................................................................................................................................................................................................................................................................................................................................................................................................................................................................................................................................................................................................................................................................................................................................................................................................................................................................................................................................................................................................................................................................................................................................................................................................................................................................................................................................................................................................................................................................................................................................................................................................................................................................................................................................................................................................................................................................................................................................................................................................................................................................................................................................................................................................................................................................................................................................................................................................................................................................................................................................................................................................................................................................................................................................................................................................................................................................................................................................................................................................................................................................................................................................................................................................................................................................................................................................................................................................................................................................................................................................................................................................................................................................................................................................................................................................................................................................................................................................................................................................................................................................................................................................................................................................................................................................................................................................................................................................................................................................................................................................................................................................................................................................................................................................................................................................................................................................................................................................................................................................................................................................................................................................................................................"
     ]
    },
    {
     "name": "stderr",
     "output_type": "stream",
     "text": [
      "..............................................................................................................................................................................................................................................................................................................................................................................................................................................................................................................................................................................................................................................................................................................................................................................................................................................................................................................................................................................................................................................................................................................................................................................................................................................................................................................................................................................................................................................................................................................................................................................................................................................................................................................................................................................................................................................................................................................................................................................................................................................................................................................................................................................................................................................................................................................................................................................................................................................................................................................................................................................................................................................................................................................................................................................................................................................................................................................................................................................................................................................................................................................................................................................................................................................................................................................................................................................................................................................................................................................................................................................................................................................................................................................................................................................................................................................................................................................................................................................................................................................................................................................................................................................................................................................................................................................................................................................................................................................................................................................................................................................................................................................................................................................................................................................................................................................................................................................................................................................................................................................................................................................................................................................................................................................................................................................................................................................................................................................................................................................................................................................................................................................................................................................................................................................................................................................................................................................................................................................................................................................................................................................................................................................................................................................................................................................................................................................................................................................................................................................................................................................................................................................................................................................................................................................................................................................................................................................................................................................................................................................................................................................................................................................................................................................................................................................................................................................................................................................................................................................................................................................................................................................................................................................................................................................................................................................................................................................................................................................................................................................................................................................................................................................................................................................................................................................................................................................................................................................................................................................................................................................................................................................................................................................................................................................................................................................................................................................................................................................................................................................................................................................................................................................................................................................................................................................................................................................................................................................................................................."
     ]
    },
    {
     "name": "stderr",
     "output_type": "stream",
     "text": [
      "..............................................................................................................................................................................................................................................................................................................................................................................................................................................................................................................................................................................................................................................................................................................................................................................................................................................................................................................................................................................................................................................................................................................................................................................................................................................................................................................................................................................................................................................................................................................................................................................................................................................................................................................................................................................................................................................................................................................................................................................................................................................................................................................................................................................................................................................................................................................................................................................................................................................................................................................................................................................................................................................................................................................................................................................................................................................................................................................................................................................................................................................................................................................................................................................................................................................................................................................................................................................................................................................................................................................................................................................................................................................................................................................................................................................................................................................................................................................................................................................................................................................................................................................................................................................................................................................................................................................................................................................................................................................................................................................................................................................................................................................................................................................................................................................................................................................................................................................................................................................................................................................................................................................................................................................................................................................................................................................................................................................................................................................................................................................................................................................................................................................................................................................................................................................................................................................................."
     ]
    },
    {
     "name": "stdout",
     "output_type": "stream",
     "text": [
      "enet: R2: 0.9196754561684652 RMSE: 2557.928293535434\n"
     ]
    },
    {
     "name": "stderr",
     "output_type": "stream",
     "text": [
      ".....................................................................................................................................................................................................................................................................................................................................................................................................................................................................................................................................................................................[Parallel(n_jobs=1)]: Done 250 out of 250 | elapsed:    4.0s finished\n"
     ]
    }
   ],
   "source": [
    "split = 0.2\n",
    "feature_cols = ['Enrolment','NSW','NT','QLD','SA','TAS','VIC','WA']\n",
    "r2_rmse_repeat(feature_cols ,split )"
   ]
  },
  {
   "cell_type": "code",
   "execution_count": null,
   "metadata": {},
   "outputs": [],
   "source": [
    "\n",
    "        \n",
    "# interesting that pure ridge is better than the enet hybrid ver\n",
    "# the lin reg seems to be performing as good as ridge\n",
    "# by including the states in lin reg the RMSE and R2 improved"
   ]
  },
  {
   "cell_type": "code",
   "execution_count": 141,
   "metadata": {},
   "outputs": [
    {
     "name": "stderr",
     "output_type": "stream",
     "text": [
      "C:\\Users\\Yoshi\\Anaconda3\\lib\\site-packages\\sklearn\\preprocessing\\data.py:645: DataConversionWarning: Data with input dtype uint8, int64 were all converted to float64 by StandardScaler.\n",
      "  return self.partial_fit(X, y)\n",
      "C:\\Users\\Yoshi\\Anaconda3\\lib\\site-packages\\sklearn\\base.py:464: DataConversionWarning: Data with input dtype uint8, int64 were all converted to float64 by StandardScaler.\n",
      "  return self.fit(X, **fit_params).transform(X)\n",
      "C:\\Users\\Yoshi\\Anaconda3\\lib\\site-packages\\ipykernel_launcher.py:13: DataConversionWarning: Data with input dtype uint8, int64 were all converted to float64 by StandardScaler.\n",
      "  del sys.path[0]\n"
     ]
    },
    {
     "name": "stdout",
     "output_type": "stream",
     "text": [
      "lin reg: R2: 0.9467388227391611 RMSE: 2082.9057200527113\n",
      "Null: R2: 0.0 RMSE: 9025.353722154052\n",
      "Ridge: R2: 0.952806111686483 RMSE: 1960.6817751298152\n"
     ]
    },
    {
     "name": "stderr",
     "output_type": "stream",
     "text": [
      "[Parallel(n_jobs=1)]: Using backend SequentialBackend with 1 concurrent workers.\n",
      "........................................................................................................................................................................................................................................................................................................................................................................................................................................................................................................................................................................................................................................................................................................................................................................................................................................................................................................................................................................................................................................................................................................................................................................................................................................................................................................................................................................................................................................................................................................................................................................................................................................................................................................................................................................................................................................................................................................................................................................................................................................................................................................................................................................................................................................................................................................................................................................................................................................................................................................................................................................................................................................................................................................................................................................................................................................................................................................................................................................................................................................................................................................................................................................................................................................................................................................................................................................................................................................................................................................................................................................................................................................................................................................................................................................................................................................................................................................................................................................................................................................................................................................................................................................................................................................................................................................................................................................................................................................................................................................................................................................................................................................................................................................................................................................................................................................................................................................................................................................................................................................................................................................................................................................................................[Parallel(n_jobs=1)]: Done  10 out of  10 | elapsed:    0.7s finished\n",
      "[Parallel(n_jobs=1)]: Using backend SequentialBackend with 1 concurrent workers.\n",
      "................................................................................................................................................................................................................................................................................................................................................................................................................................................................................................................................................................................................"
     ]
    },
    {
     "name": "stdout",
     "output_type": "stream",
     "text": [
      "Lasso: R2: 0.9529981644710361 RMSE: 1956.6882679085122\n"
     ]
    },
    {
     "name": "stderr",
     "output_type": "stream",
     "text": [
      ".............................................................................................................................................................................................................................................................................................................................................................................................................................................................................................................................................................................................................................................................................................................................................................................................................................................................................................................................................................................................................................................................................................................................................................................................................................................................................................................................................................................................................................................................................................................................................................................................................................................................................................................................................................................................................................................................................................................................................................................................................................................................................................................................................................................................................................................................................................................................................................................................................................................................................................................................................................................................................................................................................................................................................................................................................................................................................................................................................................................................................................................................................................................................................................................................................................................................................................................................................................................................................................................................................................................................................................................................................................................................................................................................................................................................................................................................................................................................................................................................................................................................................................................................................................................................................................................................................................................................................................................................................................................................................................................................................................................................................................................................................................................................................................................................................................................................................................................................................................................................................................................................................................................................................................................................................................................................................................................................................................................................................................................................................................................................................................................................................................................................................................................................................................................................................................................................................................................................................................................................................................................................................................................................................................................................................................................................................................................................................................................................................................................................................................................................................................................................................................................................................................................................................................................................................................................................................................................................................................................................................................................................................................................................................................................................................................................................................................................................................................................................................................................................................................................................................................................................................................................................................................................................................................................................................................................................................................................................................................................................................................................................................................................................................................................................................................................................................................................................................................................................................................................................................................................................................................................................................................................................................................................................................................................................................................................................................."
     ]
    },
    {
     "name": "stderr",
     "output_type": "stream",
     "text": [
      "....................................................................................................................................................................................................................................................................................................................................................................................................................................................................................................................................................................................................................................................................................................................................................................................................................................................................................................................................................................................................................................................................................................................................................................................................................................................................................................................................................................................................................................................................................................................................................................................................................................................................................................................................................................................................................................................................................................................................................................................................................................................................................................................................................................................................................................................................................................................................................................................................................................................................................................................................................................................................................................................................................................................................................................................................................................................................................................................................................................................................................................................................................................................................................................................................................................................................................................................................................................................................................................................................................................................................................................................................................................................................................................................................................................................................................................................................................................................................................................................................................................................................................................................................................................................................................................................................................................................................................................................................................................................................................................................................................................................................................................................................................................................................................................................................................................................................................................................................................................................................................................................................................................................................................................................................................................................................................................................................................................................................................................................................................................................................................................................................................................................................................................................................................................................................................................................................................................................................................................................................................................................................................................................................................................................................................................................................................................................................................................................................................................................................................................................................................................................................................................................................................................................................................................................................................................................................................................................................................................................................................................................................................................................................................................................................................................................................................................................................................................................................................................................................................................................................................................................................................................................................................................................................................................................................................................................................................................................................................................................................................................................................................................................................................................................................................................................................................................................................................................................................................................................................................................................................................................................................................................................................................................................................................................................................................................................................................................................................................................................................................................................................................................................................................................................................................."
     ]
    },
    {
     "name": "stderr",
     "output_type": "stream",
     "text": [
      "........................................................................................................................................................................................................................................................................................................................................................................................................................................................................................................................................................................................................................................................................................................................................................................................................................................................................................................................................................................................................................................................................................................................................................................................................................................................................................................................................................................................................................................................................................................................................................................................................................................................................................................................................................................................................................................................................................................................................................................................................................................................................................................................................................................................................................................................................................................................................................................................................................................................................................................................................................................................................................................................................................................................................................................................................................................................................................................................................................................................................................................................................................................................................................................................................................................................................................................................................................................................................................................................................................................................................................................................................................................................................................................................................................................................................................................................................................................................................................................................................................................................................................................................................................................................................................................................................................................................................................................................................................................................................................................................................................................................................................................................................................................................................................................................................................................................................................................................................................................................................................................................................................................................................................................................................................................................................................................................................................................................................................................................................................................................................................................................................................................................................................................................................................................................................................................................................................................................................................................................................................................................................................................................................................................................................................................................................................................................................................................................................................................................................................................................................................................................................................................................................................................................................................................................................................................................"
     ]
    },
    {
     "name": "stdout",
     "output_type": "stream",
     "text": [
      "enet: R2: 0.9530225147350114 RMSE: 1956.181351020224\n"
     ]
    },
    {
     "name": "stderr",
     "output_type": "stream",
     "text": [
      ".............................................................................................................................................................................................................................................................................................................................................................................................................................................................................[Parallel(n_jobs=1)]: Done 250 out of 250 | elapsed:    4.2s finished\n"
     ]
    }
   ],
   "source": [
    "split = 0.2\n",
    "feature_cols = ['Enrolment','NSW','NT','QLD','SA','TAS','VIC','WA','Male' ]\n",
    "r2_rmse_repeat(feature_cols ,split )"
   ]
  },
  {
   "cell_type": "code",
   "execution_count": null,
   "metadata": {},
   "outputs": [],
   "source": [
    "#by adding the male count the RMSE decreased even more"
   ]
  },
  {
   "cell_type": "code",
   "execution_count": 150,
   "metadata": {},
   "outputs": [
    {
     "name": "stderr",
     "output_type": "stream",
     "text": [
      "C:\\Users\\Yoshi\\Anaconda3\\lib\\site-packages\\sklearn\\preprocessing\\data.py:645: DataConversionWarning: Data with input dtype uint8, int64 were all converted to float64 by StandardScaler.\n",
      "  return self.partial_fit(X, y)\n",
      "C:\\Users\\Yoshi\\Anaconda3\\lib\\site-packages\\sklearn\\base.py:464: DataConversionWarning: Data with input dtype uint8, int64 were all converted to float64 by StandardScaler.\n",
      "  return self.fit(X, **fit_params).transform(X)\n",
      "C:\\Users\\Yoshi\\Anaconda3\\lib\\site-packages\\ipykernel_launcher.py:13: DataConversionWarning: Data with input dtype uint8, int64 were all converted to float64 by StandardScaler.\n",
      "  del sys.path[0]\n"
     ]
    },
    {
     "name": "stdout",
     "output_type": "stream",
     "text": [
      "lin reg: R2: 0.9579901365630281 RMSE: 1849.8642809952787\n",
      "Null: R2: 0.0 RMSE: 9025.353722154052\n",
      "Ridge: R2: 0.9618864656041346 RMSE: 1761.991641631077\n"
     ]
    },
    {
     "name": "stderr",
     "output_type": "stream",
     "text": [
      "[Parallel(n_jobs=1)]: Using backend SequentialBackend with 1 concurrent workers.\n",
      "........................................................................................................................................................................................................................................................................................................................................................................................................................................................................................................................................................................................................................................................................................................................................................................................................................................................................................................................................................................................................................................................................................................................................................................................................................................................................................................................................................................................................................................................................................................................................................................................................................................................................................................................................................................................................................................................................................................................................................................................................................................................................................................................................................................................................................................................................................................................................................................................................................................................................................................................................................................................................................................................................................................................................................................................................................................................................................................................................................................................................................................................................................................................................................................................................................................................................................................................................................................................................................................................................................................................................................................................................................................................................................................................................................................................................................................................................................................................................................................................................................................................................................................................................................................................................................................................................................................................................................................................................................................................................................................................................................................................................................................................................................................................................................................................................................................................................................................................................................................................................................................................................................................................................................................................................[Parallel(n_jobs=1)]: Done  10 out of  10 | elapsed:    0.7s finished\n",
      "[Parallel(n_jobs=1)]: Using backend SequentialBackend with 1 concurrent workers.\n",
      "......................................................................................................................................................................................................................................................................................................................................................................................"
     ]
    },
    {
     "name": "stdout",
     "output_type": "stream",
     "text": [
      "Lasso: R2: 0.9590190584064687 RMSE: 1827.0700483033806\n"
     ]
    },
    {
     "name": "stderr",
     "output_type": "stream",
     "text": [
      "................................................................................................................................................................................................................................................................................................................................................................................................................................................................................................................................................................................................................................................................................................................................................................................................................................................................................................................................................................................................................................................................................................................................................................................................................................................................................................................................................................................................................................................................................................................................................................................................................................................................................................................................................................................................................................................................................................................................................................................................................................................................................................................................................................................................................................................................................................................................................................................................................................................................................................................................................................................................................................................................................................................................................................................................................................................................................................................................................................................................................................................................................................................................................................................................................................................................................................................................................................................................................................................................................................................................................................................................................................................................................................................................................................................................................................................................................................................................................................................................................................................................................................................................................................................................................................................................................................................................................................................................................................................................................................................................................................................................................................................................................................................................................................................................................................................................................................................................................................................................................................................................................................................................................................................................................................................................................................................................................................................................................................................................................................................................................................................................................................................................................................................................................................................................................................................................................................................................................................................................................................................................................................................................................................................................................................................................................................................................................................................................................................................................................................................................................................................................................................................................................................................................................................................................................................................................................................................................................................................................................................................................................................................................................................................................................................................................................................................................................................................................................................................................................................................................................................................................................................................................................................................................................................................................................................................................................................................................................................................................................................................................................................................................................................................................................................................................................................................................................................................................................................................................................................................................................................................................................................................................................................................................................................................................"
     ]
    },
    {
     "name": "stderr",
     "output_type": "stream",
     "text": [
      "......................................................................................................................................................................................................................................................................................................................................................................................................................................................................................................................................................................................................................................................................................................................................................................................................................................................................................................................................................................................................................................................................................................................................................................................................................................................................................................................................................................................................................................................................................................................................................................................................................................................................................................................................................................................................................................................................................................................................................................................................................................................................................................................................................................................................................................................................................................................................................................................................................................................................................................................................................................................................................................................................................................................................................................................................................................................................................................................................................................................................................................................................................................................................................................................................................................................................................................................................................................................................................................................................................................................................................................................................................................................................................................................................................................................................................................................................................................................................................................................................................................................................................................................................................................................................................................................................................................................................................................................................................................................................................................................................................................................................................................................................................................................................................................................................................................................................................................................................................................................................................................................................................................................................................................................................................................................................................................................................................................................................................................................................................................................................................................................................................................................................................................................................................................................................................................................................................................................................................................................................................................................................................................................................................................................................................................................................................................................................................................................................................................................................................................................................................................................................................................................................................................................................................................................................................................................................................................................................................................................................................................................................................................................................................................................................................................................................................................................................................................................................................................................................................................................................................................................................................................................................................................................................................................................................................................................................................................................................................................................................................................................................................................................................................................................................................................................................................................................................................................................................................................................................................................................................................................................................................................................................................................................................................................................................................................................................................................................................................................................................................................................"
     ]
    },
    {
     "name": "stderr",
     "output_type": "stream",
     "text": [
      "..........................................................................................................................................................................................................................................................................................................................................................................................................................................................................................................................................................................................................................................................................................................................................................................................................................................................................................................................................................................................................................................................................................................................................................................................................................................................................................................................................................................................................................................................................................................................................................................................................................................................................................................................................................................................................................................................................................................................................................................................................................................................................................................................................................................................................................................................................................................................................................................................................................................................................................................................................................................................................................................................................................................................................................................................................................................................................................................................................................................................................................................................................................................................................................................................................................................................................................................................................................................................................................................................................................................................................................................................................................................................................................................................................................................................................................................................................................................................................................................................................................................................................................................................................................................................................................................................................................................................................................................................................................................................................................................................................................................................................................................................................................................................................................................................................................................................................................................................................................................................................................................................................................................................................................................................................................................................................................................................................................................................................................................................................................................................................................................................................................................................................................................................................................................................................................................................................................................................................................................................................................................................................................................................................................................................................................................................................................................................................................................................................................................................................................................................................................................................................................................................................................................................................................................................................................................................."
     ]
    },
    {
     "name": "stdout",
     "output_type": "stream",
     "text": [
      "enet: R2: 0.959047165123128 RMSE: 1826.4433942262403\n"
     ]
    },
    {
     "name": "stderr",
     "output_type": "stream",
     "text": [
      ".................................................................................................................................................................................................................................................................................................................................................................................................................................................................................................................................................................................................................................................................................................................................................................................................................................................................................................................................[Parallel(n_jobs=1)]: Done 250 out of 250 | elapsed:    4.2s finished\n"
     ]
    }
   ],
   "source": [
    "split = 0.2\n",
    "feature_cols = ['Enrolment','NSW','NT','QLD','SA','TAS','VIC','WA','Male','Age_15_19',\n",
    " 'Age_20_24',\n",
    " 'Age_25_29',\n",
    " 'Age_30_34',\n",
    " 'Age_35_39',\n",
    " 'Age_40_44',\n",
    " 'Age_45_49',\n",
    " 'Age_50_54',\n",
    " 'Age_55_59',\n",
    " 'Age_60_64',\n",
    " 'Age_65_69',\n",
    " 'Age_70_74','LabourForceStatus_Employed_worked_FT',\n",
    " 'LabourForceStatus_Employed_worked_PT',\n",
    " 'LabourForceStatus_Employed_away_from_work',\n",
    " 'LabourForceStatus_Unemployed_looking_for_FT',\n",
    " 'LabourForceStatus_Unemployed_looking_for_PT',\n",
    " 'LabourForceStatus_Not_in_the_labour_force']\n",
    "r2_rmse_repeat(feature_cols ,split )"
   ]
  },
  {
   "cell_type": "code",
   "execution_count": null,
   "metadata": {},
   "outputs": [],
   "source": [
    "# the above models could be over fitted, \n",
    "# but RMSE of 1761 can be achieved with ridge"
   ]
  },
  {
   "cell_type": "code",
   "execution_count": null,
   "metadata": {},
   "outputs": [],
   "source": []
  },
  {
   "cell_type": "code",
   "execution_count": 155,
   "metadata": {},
   "outputs": [],
   "source": [
    "from sklearn.ensemble import RandomForestRegressor\n",
    "\n",
    "rf_reg = RandomForestRegressor(n_estimators=150, oob_score=True, random_state=1).fit(X_train, y_train)"
   ]
  },
  {
   "cell_type": "code",
   "execution_count": 156,
   "metadata": {},
   "outputs": [
    {
     "data": {
      "text/plain": [
       "4674.43190041926"
      ]
     },
     "execution_count": 156,
     "metadata": {},
     "output_type": "execute_result"
    }
   ],
   "source": [
    "scores = cross_val_score(rf_reg, X_train, y_train, cv=10, scoring='neg_mean_squared_error')\n",
    "np.mean(np.sqrt(-scores))"
   ]
  },
  {
   "cell_type": "code",
   "execution_count": null,
   "metadata": {},
   "outputs": [],
   "source": []
  },
  {
   "cell_type": "code",
   "execution_count": 164,
   "metadata": {},
   "outputs": [
    {
     "ename": "AttributeError",
     "evalue": "'PolynomialFeatures' object has no attribute 'predict'",
     "output_type": "error",
     "traceback": [
      "\u001b[1;31m---------------------------------------------------------------------------\u001b[0m",
      "\u001b[1;31mAttributeError\u001b[0m                            Traceback (most recent call last)",
      "\u001b[1;32m<ipython-input-164-6d7183e39088>\u001b[0m in \u001b[0;36m<module>\u001b[1;34m\u001b[0m\n\u001b[0;32m      1\u001b[0m \u001b[0mpoly_features\u001b[0m \u001b[1;33m=\u001b[0m \u001b[0mPolynomialFeatures\u001b[0m\u001b[1;33m(\u001b[0m\u001b[0mdegree\u001b[0m\u001b[1;33m=\u001b[0m\u001b[1;36m5\u001b[0m\u001b[1;33m,\u001b[0m \u001b[0minteraction_only\u001b[0m\u001b[1;33m=\u001b[0m\u001b[1;32mTrue\u001b[0m\u001b[1;33m)\u001b[0m\u001b[1;33m.\u001b[0m\u001b[0mfit\u001b[0m\u001b[1;33m(\u001b[0m\u001b[0mX_train\u001b[0m\u001b[1;33m,\u001b[0m \u001b[0my_train\u001b[0m\u001b[1;33m)\u001b[0m\u001b[1;33m\u001b[0m\u001b[1;33m\u001b[0m\u001b[0m\n\u001b[1;32m----> 2\u001b[1;33m \u001b[0my_pred\u001b[0m \u001b[1;33m=\u001b[0m \u001b[0mpoly_features\u001b[0m\u001b[1;33m.\u001b[0m\u001b[0mpredict\u001b[0m\u001b[1;33m(\u001b[0m\u001b[0mX_test\u001b[0m\u001b[1;33m)\u001b[0m\u001b[1;33m\u001b[0m\u001b[1;33m\u001b[0m\u001b[0m\n\u001b[0m\u001b[0;32m      3\u001b[0m \u001b[0mprint\u001b[0m\u001b[1;33m(\u001b[0m\u001b[1;34m'enet: R2:'\u001b[0m\u001b[1;33m,\u001b[0m \u001b[0mmetrics\u001b[0m\u001b[1;33m.\u001b[0m\u001b[0mr2_score\u001b[0m\u001b[1;33m(\u001b[0m\u001b[0my_test\u001b[0m\u001b[1;33m,\u001b[0m\u001b[0my_pred\u001b[0m\u001b[1;33m)\u001b[0m\u001b[1;33m,\u001b[0m\u001b[1;34m'RMSE:'\u001b[0m\u001b[1;33m,\u001b[0m \u001b[0mnp\u001b[0m\u001b[1;33m.\u001b[0m\u001b[0msqrt\u001b[0m\u001b[1;33m(\u001b[0m\u001b[0mmetrics\u001b[0m\u001b[1;33m.\u001b[0m\u001b[0mmean_squared_error\u001b[0m\u001b[1;33m(\u001b[0m\u001b[0my_test\u001b[0m\u001b[1;33m,\u001b[0m\u001b[0my_pred\u001b[0m\u001b[1;33m)\u001b[0m\u001b[1;33m)\u001b[0m\u001b[1;33m)\u001b[0m\u001b[1;33m\u001b[0m\u001b[1;33m\u001b[0m\u001b[0m\n",
      "\u001b[1;31mAttributeError\u001b[0m: 'PolynomialFeatures' object has no attribute 'predict'"
     ]
    }
   ],
   "source": [
    "poly_features = PolynomialFeatures(degree=5, interaction_only=True).fit(X_train, y_train)\n",
    "y_pred = poly_features.predict(X_test)\n",
    "print('enet: R2:', metrics.r2_score(y_test,y_pred),'RMSE:', np.sqrt(metrics.mean_squared_error(y_test,y_pred)))"
   ]
  },
  {
   "cell_type": "markdown",
   "metadata": {},
   "source": [
    "## Binary classification "
   ]
  },
  {
   "cell_type": "markdown",
   "metadata": {},
   "source": [
    "**Objective: Using the available data predict which party will receive more votes.** "
   ]
  },
  {
   "cell_type": "markdown",
   "metadata": {},
   "source": [
    "**Basic level**\n",
    "- Explore the relationships between the features.\n",
    "- Select or engineer features that are assocciated with the response variable.\n",
    "- Create one-hot vectors for categorical variables.\n",
    "- Create a train/test split (try different ratios).\n",
    "- Standartise the dataser if needed. \n",
    "- Train and evaluate a logistic regression model.\n",
    "- Calculate null accuracy and compare your model against it.\n",
    "- Use kNN model for binary classification and compare its performance with Logistic Regression.\n",
    "\n",
    "**Intermediate level**\n",
    "- Output confusion matrix to see what observations are misclassified.\n",
    "- Create train-validation-test split and tune your model.\n",
    "\n",
    "**Advanced level**\n",
    "- Use three-way split with cross-validation.\n",
    "- Plot a ROC curve.\n",
    "- Perform multiclass classification to predict the Winning Party. For example, you can predict if the winning party is ALP, LP or Other.\n",
    "- Generate synthetic data."
   ]
  },
  {
   "cell_type": "markdown",
   "metadata": {},
   "source": [
    "### Target variable"
   ]
  },
  {
   "cell_type": "code",
   "execution_count": 157,
   "metadata": {},
   "outputs": [
    {
     "data": {
      "image/png": "[encoded data removed]",
      "text/plain": [
       "<Figure size 1080x360 with 1 Axes>"
      ]
     },
     "metadata": {},
     "output_type": "display_data"
    }
   ],
   "source": [
    "plt.rcParams['figure.figsize'] = (15, 5)\n",
    "election.WinningParty.value_counts().plot(kind='bar');"
   ]
  },
  {
   "cell_type": "markdown",
   "metadata": {},
   "source": [
    "###### Create a new response variable for binary classification"
   ]
  },
  {
   "cell_type": "code",
   "execution_count": 158,
   "metadata": {},
   "outputs": [
    {
     "ename": "SyntaxError",
     "evalue": "invalid syntax (<ipython-input-158-2e236e8e54cf>, line 1)",
     "output_type": "error",
     "traceback": [
      "\u001b[1;36m  File \u001b[1;32m\"<ipython-input-158-2e236e8e54cf>\"\u001b[1;36m, line \u001b[1;32m1\u001b[0m\n\u001b[1;33m    election['two_party'] =\u001b[0m\n\u001b[1;37m                            ^\u001b[0m\n\u001b[1;31mSyntaxError\u001b[0m\u001b[1;31m:\u001b[0m invalid syntax\n"
     ]
    }
   ],
   "source": [
    "election['two_party'] = \n"
   ]
  },
  {
   "cell_type": "code",
   "execution_count": null,
   "metadata": {},
   "outputs": [],
   "source": [
    "# Check how many observations you have for each class"
   ]
  },
  {
   "cell_type": "code",
   "execution_count": null,
   "metadata": {},
   "outputs": [],
   "source": []
  },
  {
   "cell_type": "code",
   "execution_count": null,
   "metadata": {},
   "outputs": [],
   "source": []
  },
  {
   "cell_type": "code",
   "execution_count": null,
   "metadata": {},
   "outputs": [],
   "source": []
  },
  {
   "cell_type": "code",
   "execution_count": null,
   "metadata": {},
   "outputs": [],
   "source": []
  },
  {
   "cell_type": "markdown",
   "metadata": {},
   "source": [
    "### Build a classification model"
   ]
  },
  {
   "cell_type": "markdown",
   "metadata": {},
   "source": [
    "###### Feature engineering"
   ]
  },
  {
   "cell_type": "code",
   "execution_count": null,
   "metadata": {},
   "outputs": [],
   "source": [
    "# For example, percentage of children below 5.\n",
    "\n"
   ]
  },
  {
   "cell_type": "markdown",
   "metadata": {},
   "source": [
    "###### Define the feature map and the response variable"
   ]
  },
  {
   "cell_type": "code",
   "execution_count": null,
   "metadata": {},
   "outputs": [],
   "source": [
    "feature_cols = \n",
    "X = election[feature_cols]\n",
    "y = election['']\n",
    "\n",
    "print(X.shape, y.shape)"
   ]
  },
  {
   "cell_type": "markdown",
   "metadata": {},
   "source": [
    "###### Train-test split"
   ]
  },
  {
   "cell_type": "code",
   "execution_count": null,
   "metadata": {},
   "outputs": [],
   "source": [
    "X_train, X_test, y_train, y_test = train_test_split(X, y, random_state=42)"
   ]
  },
  {
   "cell_type": "markdown",
   "metadata": {},
   "source": [
    "###### Fit logistic regression"
   ]
  },
  {
   "cell_type": "code",
   "execution_count": null,
   "metadata": {},
   "outputs": [],
   "source": [
    "from sklearn.linear_model import LogisticRegression\n",
    "#linear_model.LogisticRegression\n",
    "\n",
    "logi_reg = LogisticRegression().fit(X_train,y_train)\n"
   ]
  },
  {
   "cell_type": "markdown",
   "metadata": {},
   "source": [
    "###### Performance evaluation"
   ]
  },
  {
   "cell_type": "code",
   "execution_count": null,
   "metadata": {},
   "outputs": [],
   "source": [
    "y_pred = logi_reg.predict(X_test)\n",
    "\n",
    "print('R2:', metrics.r2_score(y_test,y_pred))"
   ]
  },
  {
   "cell_type": "markdown",
   "metadata": {},
   "source": [
    "###### Null Accuracy"
   ]
  },
  {
   "cell_type": "code",
   "execution_count": null,
   "metadata": {},
   "outputs": [],
   "source": [
    "#get the most commont one\n",
    "print(y_test.unique\n",
    "print(y_test.shape())\n",
    "\n",
    "\n",
    "null_R2 = y_train.value_counts(y_train.value_counts().index[0]) / len(y_train) \n",
    "null_R2"
   ]
  },
  {
   "cell_type": "markdown",
   "metadata": {},
   "source": [
    "###### Fit k-Nearest Neighbours"
   ]
  },
  {
   "cell_type": "code",
   "execution_count": null,
   "metadata": {},
   "outputs": [],
   "source": []
  },
  {
   "cell_type": "markdown",
   "metadata": {},
   "source": [
    "###### Try hyperparameter tuning, use advanced classificcation metrics and build a multiclass classification model."
   ]
  },
  {
   "cell_type": "code",
   "execution_count": null,
   "metadata": {},
   "outputs": [],
   "source": []
  },
  {
   "cell_type": "code",
   "execution_count": null,
   "metadata": {},
   "outputs": [],
   "source": []
  },
  {
   "cell_type": "code",
   "execution_count": null,
   "metadata": {},
   "outputs": [],
   "source": []
  }
 ],
 "metadata": {
  "kernelspec": {
   "display_name": "Python 3",
   "language": "python",
   "name": "python3"
  },
  "language_info": {
   "codemirror_mode": {
    "name": "ipython",
    "version": 3
   },
   "file_extension": ".py",
   "mimetype": "text/x-python",
   "name": "python",
   "nbconvert_exporter": "python",
   "pygments_lexer": "ipython3",
   "version": "3.7.3"
  },
  "toc": {
   "base_numbering": 1,
   "nav_menu": {},
   "number_sections": true,
   "sideBar": true,
   "skip_h1_title": false,
   "title_cell": "Table of Contents",
   "title_sidebar": "Contents",
   "toc_cell": false,
   "toc_position": {},
   "toc_section_display": true,
   "toc_window_display": false
  }
 },
 "nbformat": 4,
 "nbformat_minor": 2
}
